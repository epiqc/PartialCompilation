{
 "cells": [
  {
   "cell_type": "markdown",
   "metadata": {},
   "source": [
    "NOTE: I am defining the gate time as the shortest `total_time` where the error gets below 10^-3 within 1000 iterations of QOC.\n",
    "\n",
    "I determined this shortest time by binary searching. This notebook just shows the final `total_time` found for each gate."
   ]
  },
  {
   "cell_type": "markdown",
   "metadata": {},
   "source": [
    "---\n",
    "## Setup"
   ]
  },
  {
   "cell_type": "code",
   "execution_count": 8,
   "metadata": {},
   "outputs": [],
   "source": [
    "from quantum_optimal_control.helper_functions.grape_functions import transmon_gate\n",
    "from quantum_optimal_control.main_grape.grape import Grape\n",
    "from quantum_optimal_control.core import hamiltonian"
   ]
  },
  {
   "cell_type": "code",
   "execution_count": 9,
   "metadata": {},
   "outputs": [],
   "source": [
    "import numpy as np\n",
    "import os, sys, math\n",
    "from datetime import datetime\n",
    "sys.path.append('..'); import config\n",
    "\n",
    "data_path = config.DATA_PATH\n",
    "file_name = datetime.today().strftime('%h%d')"
   ]
  },
  {
   "cell_type": "code",
   "execution_count": 10,
   "metadata": {
    "scrolled": true
   },
   "outputs": [],
   "source": [
    "d = 2  # this is the number of energy levels to consider (i.e. d-level qudits)\n",
    "max_iterations = 1000\n",
    "decay =  max_iterations / 2\n",
    "convergence = {'rate':0.02, 'max_iterations':max_iterations,\n",
    "               'conv_target':1e-3, 'learning_rate_decay':decay}\n",
    "reg_coeffs = {}"
   ]
  },
  {
   "cell_type": "markdown",
   "metadata": {},
   "source": [
    "----\n",
    "## H Gate: 2.1 ns"
   ]
  },
  {
   "cell_type": "code",
   "execution_count": 11,
   "metadata": {
    "scrolled": true
   },
   "outputs": [],
   "source": [
    "N = 1\n",
    "connected_qubit_pairs = []\n",
    "H0 = hamiltonian.get_H0(N, d, connected_qubit_pairs)\n",
    "Hops, Hnames = hamiltonian.get_Hops_and_Hnames(N, d)\n",
    "states_concerned_list = hamiltonian.get_full_states_concerned_list(N, d)\n",
    "maxA = hamiltonian.get_maxA(N, d)\n",
    "U = np.array([[1, 1], [1, -1]]) / math.sqrt(2)\n",
    "U = transmon_gate(U, d)"
   ]
  },
  {
   "cell_type": "code",
   "execution_count": 12,
   "metadata": {},
   "outputs": [
    {
     "name": "stdout",
     "output_type": "stream",
     "text": [
      "data saved at: /project/ftchong/qoc/pranav/00003_Feb15.h5\n",
      "Using 7 Taylor terms and 2 Scaling & Squaring terms\n",
      "Building graph:\n",
      "Propagators initialized.\n",
      "Operators weight initialized.\n",
      "Intermediate propagation variables initialized.\n",
      "Intermediate propagators initialized.\n",
      "Vectors initialized.\n",
      "Training loss initialized.\n",
      "Optimizer initialized.\n",
      "Utilities initialized.\n",
      "Graph built!\n",
      "Initialized\n",
      "Error = :4.94e-01; Runtime: 3.2s; Iterations = 0, grads =   1.086e-02, unitary_metric = 1.00000\n",
      "Error = :1.16e-02; Runtime: 9.8s; Iterations = 100, grads =   1.728e-04, unitary_metric = 1.00000\n",
      "Error = :1.70e-03; Runtime: 11.8s; Iterations = 200, grads =   7.929e-06, unitary_metric = 1.00000\n",
      "Error = :1.01e-03; Runtime: 13.9s; Iterations = 300, grads =   2.971e-06, unitary_metric = 1.00000\n",
      "Error = :9.98e-04; Runtime: 15.0s; Iterations = 306, grads =   2.879e-06, unitary_metric = 1.00000\n",
      "data saved at: /project/ftchong/qoc/pranav/00003_Feb15.h5\n"
     ]
    }
   ],
   "source": [
    "total_time = 2.1\n",
    "steps = int(total_time * 20)\n",
    "uks, U_f = Grape(H0, Hops, Hnames, U, total_time, steps, states_concerned_list, convergence,\n",
    "                 reg_coeffs=reg_coeffs,\n",
    "                 use_gpu=False, sparse_H=False, method='ADAM', maxA=maxA,\n",
    "                 show_plots=False, file_name=file_name, data_path=data_path)"
   ]
  },
  {
   "cell_type": "markdown",
   "metadata": {},
   "source": [
    "---\n",
    "## CNOT Gate: 7.1 ns"
   ]
  },
  {
   "cell_type": "code",
   "execution_count": 11,
   "metadata": {
    "scrolled": true
   },
   "outputs": [],
   "source": [
    "N = 2\n",
    "connected_qubit_pairs = [(0, 1)]\n",
    "H0 = hamiltonian.get_H0(N, d, connected_qubit_pairs)\n",
    "Hops, Hnames = hamiltonian.get_Hops_and_Hnames(N, d)\n",
    "states_concerned_list = hamiltonian.get_full_states_concerned_list(N, d)\n",
    "maxA = hamiltonian.get_maxA(N, d)\n",
    "U = np.array([[1, 0, 0, 0], [0, 1, 0, 0], [0, 0, 0, 1], [0, 0, 1, 0]])\n",
    "U = transmon_gate(U, d)"
   ]
  },
  {
   "cell_type": "code",
   "execution_count": 20,
   "metadata": {},
   "outputs": [
    {
     "name": "stdout",
     "output_type": "stream",
     "text": [
      "data saved at: /project/ftchong/qoc/pranav/00093_Feb09.h5\n",
      "Using 4 Taylor terms and 5 Scaling & Squaring terms\n",
      "Building graph:\n",
      "Propagators initialized.\n",
      "Operators weight initialized.\n",
      "Intermediate propagation variables initialized.\n",
      "Intermediate propagators initialized.\n",
      "Vectors initialized.\n",
      "Training loss initialized.\n",
      "Optimizer initialized.\n",
      "Utilities initialized.\n",
      "Graph built!\n",
      "Initialized\n",
      "Error = :8.45e-01; Runtime: 0.1s; Iterations = 0, grads =   1.937e-02, unitary_metric = 1.00002\n",
      "Error = :3.72e-02; Runtime: 4.3s; Iterations = 100, grads =   2.358e-04, unitary_metric = 0.99996\n",
      "Error = :1.35e-02; Runtime: 8.3s; Iterations = 200, grads =   6.055e-05, unitary_metric = 0.99996\n",
      "Error = :5.00e-03; Runtime: 12.3s; Iterations = 300, grads =   1.641e-05, unitary_metric = 0.99995\n",
      "Error = :2.16e-03; Runtime: 16.3s; Iterations = 400, grads =   5.703e-06, unitary_metric = 0.99996\n",
      "Error = :1.23e-03; Runtime: 20.3s; Iterations = 500, grads =   2.610e-06, unitary_metric = 0.99994\n",
      "Error = :9.99e-04; Runtime: 22.4s; Iterations = 552, grads =   1.952e-06, unitary_metric = 0.99993\n",
      "data saved at: /project/ftchong/qoc/pranav/00093_Feb09.h5\n"
     ]
    }
   ],
   "source": [
    "total_time = 7.1\n",
    "steps = int(total_time * 20)\n",
    "uks, U_f = Grape(H0, Hops, Hnames, U, total_time, steps, states_concerned_list, convergence,\n",
    "                 reg_coeffs=reg_coeffs,\n",
    "                 use_gpu=False, sparse_H=False, method='ADAM', maxA=maxA,\n",
    "                 show_plots=False, file_name=file_name, data_path=data_path)"
   ]
  },
  {
   "cell_type": "markdown",
   "metadata": {},
   "source": [
    "---\n",
    "## RZ(Θ) Gate: 0.3 ns (at most)\n",
    "Note: this is the longest any angle seems to take. For some unexpected reason, the gate time is not just linear between 0 and pi."
   ]
  },
  {
   "cell_type": "code",
   "execution_count": 39,
   "metadata": {
    "scrolled": true
   },
   "outputs": [],
   "source": [
    "N = 1\n",
    "connected_qubit_pairs = []\n",
    "H0 = hamiltonian.get_H0(N, d, connected_qubit_pairs)\n",
    "Hops, Hnames = hamiltonian.get_Hops_and_Hnames(N, d)\n",
    "states_concerned_list = hamiltonian.get_full_states_concerned_list(N, d)\n",
    "maxA = hamiltonian.get_maxA(N, d)\n",
    "theta = 0.99*np.pi\n",
    "U = np.array([[1, 0], [0, np.exp(1j * theta)]])\n",
    "U = transmon_gate(U, d)"
   ]
  },
  {
   "cell_type": "code",
   "execution_count": 40,
   "metadata": {},
   "outputs": [
    {
     "name": "stdout",
     "output_type": "stream",
     "text": [
      "data saved at: /project/ftchong/qoc/pranav/00105_Feb09.h5\n",
      "Using 4 Taylor terms and 3 Scaling & Squaring terms\n",
      "Building graph:\n",
      "Propagators initialized.\n",
      "Operators weight initialized.\n",
      "Intermediate propagation variables initialized.\n",
      "Intermediate propagators initialized.\n",
      "Vectors initialized.\n",
      "Training loss initialized.\n",
      "Optimizer initialized.\n",
      "Utilities initialized.\n",
      "Graph built!\n",
      "Initialized\n",
      "Error = :3.28e-02; Runtime: 0.0s; Iterations = 0, grads =   1.684e-02, unitary_metric = 0.99998\n",
      "Error = :2.94e-04; Runtime: 0.1s; Iterations = 7, grads =   1.455e-04, unitary_metric = 0.99998\n",
      "data saved at: /project/ftchong/qoc/pranav/00105_Feb09.h5\n"
     ]
    }
   ],
   "source": [
    "total_time = 0.3\n",
    "steps = int(total_time * 20)\n",
    "uks, U_f = Grape(H0, Hops, Hnames, U, total_time, steps, states_concerned_list, convergence,\n",
    "                 reg_coeffs=reg_coeffs,\n",
    "                 use_gpu=False, sparse_H=False, method='ADAM', maxA=maxA,\n",
    "                 show_plots=False, file_name=file_name, data_path=data_path)"
   ]
  },
  {
   "cell_type": "markdown",
   "metadata": {},
   "source": [
    "---\n",
    "## RX(Θ) Gate: 4.2 ns (at most)\n",
    "For this one, the longest time is for theta = pi, as expected."
   ]
  },
  {
   "cell_type": "code",
   "execution_count": 59,
   "metadata": {
    "scrolled": true
   },
   "outputs": [],
   "source": [
    "N = 1\n",
    "connected_qubit_pairs = []\n",
    "H0 = hamiltonian.get_H0(N, d, connected_qubit_pairs)\n",
    "Hops, Hnames = hamiltonian.get_Hops_and_Hnames(N, d)\n",
    "states_concerned_list = hamiltonian.get_full_states_concerned_list(N, d)\n",
    "maxA = hamiltonian.get_maxA(N, d)\n",
    "theta = 1.0 * np.pi\n",
    "U = np.array([[np.cos(theta / 2.0), np.sin(theta / 2.0) * -1j], [np.sin(theta / 2.0) * -1j, np.cos(theta / 2.0)]])\n",
    "U = transmon_gate(U, d)"
   ]
  },
  {
   "cell_type": "code",
   "execution_count": 60,
   "metadata": {},
   "outputs": [
    {
     "name": "stdout",
     "output_type": "stream",
     "text": [
      "data saved at: /project/ftchong/qoc/pranav/00121_Feb09.h5\n",
      "Using 7 Taylor terms and 2 Scaling & Squaring terms\n",
      "Building graph:\n",
      "Propagators initialized.\n",
      "Operators weight initialized.\n",
      "Intermediate propagation variables initialized.\n",
      "Intermediate propagators initialized.\n",
      "Vectors initialized.\n",
      "Training loss initialized.\n",
      "Optimizer initialized.\n",
      "Utilities initialized.\n",
      "Graph built!\n",
      "Initialized\n",
      "Error = :1.00e+00; Runtime: 0.1s; Iterations = 0, grads =   2.069e-05, unitary_metric = 0.99999\n",
      "Error = :2.57e-02; Runtime: 2.3s; Iterations = 100, grads =   6.163e-04, unitary_metric = 0.99999\n",
      "Error = :9.83e-03; Runtime: 4.3s; Iterations = 200, grads =   1.356e-04, unitary_metric = 0.99998\n",
      "Error = :1.25e-02; Runtime: 6.4s; Iterations = 300, grads =   1.881e-04, unitary_metric = 0.99998\n",
      "Error = :1.11e-02; Runtime: 8.5s; Iterations = 400, grads =   1.852e-04, unitary_metric = 0.99998\n",
      "Error = :5.56e-03; Runtime: 10.5s; Iterations = 500, grads =   8.018e-05, unitary_metric = 0.99998\n",
      "Error = :3.04e-03; Runtime: 12.6s; Iterations = 600, grads =   3.317e-05, unitary_metric = 0.99998\n",
      "Error = :1.89e-03; Runtime: 14.6s; Iterations = 700, grads =   1.712e-05, unitary_metric = 0.99998\n",
      "Error = :1.27e-03; Runtime: 16.7s; Iterations = 800, grads =   1.018e-05, unitary_metric = 0.99998\n",
      "Error = :1.00e-03; Runtime: 18.5s; Iterations = 884, grads =   7.369e-06, unitary_metric = 0.99998\n",
      "data saved at: /project/ftchong/qoc/pranav/00121_Feb09.h5\n"
     ]
    }
   ],
   "source": [
    "total_time = 4.2\n",
    "steps = int(total_time * 20)\n",
    "uks, U_f = Grape(H0, Hops, Hnames, U, total_time, steps, states_concerned_list, convergence,\n",
    "                 reg_coeffs=reg_coeffs,\n",
    "                 use_gpu=False, sparse_H=False, method='ADAM', maxA=maxA,\n",
    "                 show_plots=False, file_name=file_name, data_path=data_path)"
   ]
  },
  {
   "cell_type": "code",
   "execution_count": null,
   "metadata": {},
   "outputs": [],
   "source": []
  }
 ],
 "metadata": {
  "kernelspec": {
   "display_name": "Python 2",
   "language": "python",
   "name": "python2"
  },
  "language_info": {
   "codemirror_mode": {
    "name": "ipython",
    "version": 3
   },
   "file_extension": ".py",
   "mimetype": "text/x-python",
   "name": "python",
   "nbconvert_exporter": "python",
   "pygments_lexer": "ipython3",
   "version": "3.6.7"
  }
 },
 "nbformat": 4,
 "nbformat_minor": 2
}
