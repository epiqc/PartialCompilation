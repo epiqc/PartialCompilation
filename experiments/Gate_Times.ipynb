{
 "cells": [
  {
   "cell_type": "markdown",
   "metadata": {},
   "source": [
    "NOTE: I am defining the gate time as the shortest `total_time` where the error gets below 10^-3 within 2000 iterations of QOC.\n",
    "\n",
    "I determined this shortest time by binary searching. This notebook just shows the final `total_time` found for each gate."
   ]
  },
  {
   "cell_type": "markdown",
   "metadata": {},
   "source": [
    "---\n",
    "## Setup"
   ]
  },
  {
   "cell_type": "code",
   "execution_count": 1,
   "metadata": {},
   "outputs": [],
   "source": [
    "from quantum_optimal_control.helper_functions.grape_functions import transmon_gate\n",
    "from quantum_optimal_control.main_grape.grape import Grape\n",
    "from quantum_optimal_control.core import hamiltonian"
   ]
  },
  {
   "cell_type": "code",
   "execution_count": 2,
   "metadata": {},
   "outputs": [],
   "source": [
    "import numpy as np\n",
    "import os, sys, math\n",
    "from datetime import datetime\n",
    "sys.path.append('..'); import config\n",
    "\n",
    "data_path = config.DATA_PATH\n",
    "file_name = datetime.today().strftime('%h%d')"
   ]
  },
  {
   "cell_type": "code",
   "execution_count": 3,
   "metadata": {
    "scrolled": true
   },
   "outputs": [],
   "source": [
    "d = 2  # this is the number of energy levels to consider (i.e. d-level qudits)\n",
    "max_iterations = 2000\n",
    "decay =  max_iterations / 2\n",
    "convergence = {'rate':0.02, 'max_iterations':max_iterations,\n",
    "               'conv_target':1e-3, 'learning_rate_decay':decay, 'min_grad': 1e-5}\n",
    "reg_coeffs = {'dwdt': 0.001, 'envelope': 0.01}"
   ]
  },
  {
   "cell_type": "markdown",
   "metadata": {},
   "source": [
    "----\n",
    "## H Gate: 1.6 ns"
   ]
  },
  {
   "cell_type": "code",
   "execution_count": 4,
   "metadata": {
    "scrolled": true
   },
   "outputs": [],
   "source": [
    "N = 1\n",
    "connected_qubit_pairs = []\n",
    "H0 = hamiltonian.get_H0(N, d)\n",
    "Hops, Hnames = hamiltonian.get_Hops_and_Hnames(N, d, connected_qubit_pairs)\n",
    "states_concerned_list = hamiltonian.get_full_states_concerned_list(N, d)\n",
    "maxA = hamiltonian.get_maxA(N, d, connected_qubit_pairs)\n",
    "U = np.array([[1, 1], [1, -1]]) / math.sqrt(2)\n",
    "U = transmon_gate(U, d)"
   ]
  },
  {
   "cell_type": "code",
   "execution_count": 6,
   "metadata": {},
   "outputs": [
    {
     "name": "stdout",
     "output_type": "stream",
     "text": [
      "data saved at: /project/ftchong/qoc/pranav/00027_Mar06.h5\n",
      "Using 6 Taylor terms and 0 Scaling & Squaring terms\n",
      "Building graph:\n",
      "Propagators initialized.\n",
      "Operators weight initialized.\n",
      "Intermediate propagation variables initialized.\n",
      "Intermediate propagators initialized.\n",
      "Vectors initialized.\n",
      "Training loss initialized.\n",
      "Optimizer initialized.\n",
      "Utilities initialized.\n",
      "Graph built!\n",
      "Initialized\n",
      "Error = :9.90e-01; Runtime: 0.1s; Iterations = 0, grads =   1.857e-02, unitary_metric = 1.00000\n",
      "Error = :1.03e-03; Runtime: 1.0s; Iterations = 100, grads =   8.723e-05, unitary_metric = 1.00000\n",
      "Error = :9.82e-04; Runtime: 1.1s; Iterations = 101, grads =   7.377e-05, unitary_metric = 1.00000\n",
      "data saved at: /project/ftchong/qoc/pranav/00027_Mar06.h5\n"
     ]
    }
   ],
   "source": [
    "total_time = 1.6\n",
    "steps = int(total_time * 20)\n",
    "uks, U_f = Grape(H0, Hops, Hnames, U, total_time, steps, states_concerned_list, convergence,\n",
    "                 reg_coeffs=reg_coeffs,\n",
    "                 use_gpu=False, sparse_H=False, method='ADAM', maxA=maxA,\n",
    "                 show_plots=False, file_name=file_name, data_path=data_path)"
   ]
  },
  {
   "cell_type": "markdown",
   "metadata": {},
   "source": [
    "---\n",
    "## CNOT Gate: 4.1 ns"
   ]
  },
  {
   "cell_type": "code",
   "execution_count": 7,
   "metadata": {
    "scrolled": true
   },
   "outputs": [],
   "source": [
    "N = 2\n",
    "connected_qubit_pairs = [(0, 1)]\n",
    "H0 = hamiltonian.get_H0(N, d)\n",
    "Hops, Hnames = hamiltonian.get_Hops_and_Hnames(N, d, connected_qubit_pairs)\n",
    "states_concerned_list = hamiltonian.get_full_states_concerned_list(N, d)\n",
    "maxA = hamiltonian.get_maxA(N, d, connected_qubit_pairs)\n",
    "U = np.array([[1, 0, 0, 0], [0, 1, 0, 0], [0, 0, 0, 1], [0, 0, 1, 0]])\n",
    "U = transmon_gate(U, d)"
   ]
  },
  {
   "cell_type": "code",
   "execution_count": 8,
   "metadata": {},
   "outputs": [
    {
     "name": "stdout",
     "output_type": "stream",
     "text": [
      "data saved at: /project/ftchong/qoc/pranav/00028_Mar06.h5\n",
      "Using 6 Taylor terms and 1 Scaling & Squaring terms\n",
      "Building graph:\n",
      "Propagators initialized.\n",
      "Operators weight initialized.\n",
      "Intermediate propagation variables initialized.\n",
      "Intermediate propagators initialized.\n",
      "Vectors initialized.\n",
      "Training loss initialized.\n",
      "Optimizer initialized.\n",
      "Utilities initialized.\n",
      "Graph built!\n",
      "Initialized\n",
      "Error = :7.50e-01; Runtime: 0.1s; Iterations = 0, grads =   1.197e-02, unitary_metric = 1.00000\n",
      "Error = :1.38e-03; Runtime: 3.5s; Iterations = 100, grads =   1.511e-05, unitary_metric = 1.00000\n",
      "Error = :9.87e-04; Runtime: 4.1s; Iterations = 114, grads =   1.320e-05, unitary_metric = 1.00000\n",
      "data saved at: /project/ftchong/qoc/pranav/00028_Mar06.h5\n"
     ]
    }
   ],
   "source": [
    "total_time = 4.1\n",
    "steps = int(total_time * 20)\n",
    "uks, U_f = Grape(H0, Hops, Hnames, U, total_time, steps, states_concerned_list, convergence,\n",
    "                 reg_coeffs=reg_coeffs,\n",
    "                 use_gpu=False, sparse_H=False, method='ADAM', maxA=maxA,\n",
    "                 show_plots=False, file_name=file_name, data_path=data_path)"
   ]
  },
  {
   "cell_type": "markdown",
   "metadata": {},
   "source": [
    "---\n",
    "## SWAP Gate: 7.8 ns"
   ]
  },
  {
   "cell_type": "code",
   "execution_count": 9,
   "metadata": {},
   "outputs": [],
   "source": [
    "N = 2\n",
    "connected_qubit_pairs = [(0, 1)]\n",
    "H0 = hamiltonian.get_H0(N, d)\n",
    "Hops, Hnames = hamiltonian.get_Hops_and_Hnames(N, d, connected_qubit_pairs)\n",
    "states_concerned_list = hamiltonian.get_full_states_concerned_list(N, d)\n",
    "maxA = hamiltonian.get_maxA(N, d, connected_qubit_pairs)\n",
    "U = np.array([[1, 0, 0, 0], [0, 0, 1, 0], [0, 1, 0, 0], [0, 0, 0, 1]])\n",
    "U = transmon_gate(U, d)"
   ]
  },
  {
   "cell_type": "code",
   "execution_count": 12,
   "metadata": {},
   "outputs": [
    {
     "name": "stdout",
     "output_type": "stream",
     "text": [
      "data saved at: /project/ftchong/qoc/pranav/00031_Mar06.h5\n",
      "Using 6 Taylor terms and 1 Scaling & Squaring terms\n",
      "Building graph:\n",
      "Propagators initialized.\n",
      "Operators weight initialized.\n",
      "Intermediate propagation variables initialized.\n",
      "Intermediate propagators initialized.\n",
      "Vectors initialized.\n",
      "Training loss initialized.\n",
      "Optimizer initialized.\n",
      "Utilities initialized.\n",
      "Graph built!\n",
      "Initialized\n",
      "Error = :7.52e-01; Runtime: 0.3s; Iterations = 0, grads =   1.891e-02, unitary_metric = 1.00000\n",
      "Error = :4.88e-01; Runtime: 6.6s; Iterations = 100, grads =   2.155e-03, unitary_metric = 1.00000\n",
      "Error = :8.18e-04; Runtime: 8.9s; Iterations = 136, grads =   2.296e-04, unitary_metric = 1.00000\n",
      "data saved at: /project/ftchong/qoc/pranav/00031_Mar06.h5\n"
     ]
    }
   ],
   "source": [
    "total_time = 7.8\n",
    "steps = int(total_time * 20)\n",
    "uks, U_f = Grape(H0, Hops, Hnames, U, total_time, steps, states_concerned_list, convergence,\n",
    "                 reg_coeffs=reg_coeffs,\n",
    "                 use_gpu=False, sparse_H=False, method='ADAM', maxA=maxA,\n",
    "                 show_plots=False, file_name=file_name, data_path=data_path)"
   ]
  },
  {
   "cell_type": "markdown",
   "metadata": {},
   "source": [
    "---\n",
    "## RZ(Θ) Gate: 0.4 ns (at most)\n",
    "As expected, theta=pi takes the longest to execute."
   ]
  },
  {
   "cell_type": "code",
   "execution_count": 20,
   "metadata": {
    "scrolled": true
   },
   "outputs": [],
   "source": [
    "N = 1\n",
    "connected_qubit_pairs = []\n",
    "H0 = hamiltonian.get_H0(N, d)\n",
    "Hops, Hnames = hamiltonian.get_Hops_and_Hnames(N, d, connected_qubit_pairs)\n",
    "states_concerned_list = hamiltonian.get_full_states_concerned_list(N, d)\n",
    "maxA = hamiltonian.get_maxA(N, d, connected_qubit_pairs)\n",
    "theta = np.pi\n",
    "U = np.array([[1, 0], [0, np.exp(1j * theta)]])\n",
    "U = transmon_gate(U, d)"
   ]
  },
  {
   "cell_type": "code",
   "execution_count": 21,
   "metadata": {},
   "outputs": [
    {
     "name": "stdout",
     "output_type": "stream",
     "text": [
      "data saved at: /project/ftchong/qoc/pranav/00037_Mar06.h5\n",
      "Using 4 Taylor terms and 1 Scaling & Squaring terms\n",
      "Building graph:\n",
      "Propagators initialized.\n",
      "Operators weight initialized.\n",
      "Intermediate propagation variables initialized.\n",
      "Intermediate propagators initialized.\n",
      "Vectors initialized.\n",
      "Training loss initialized.\n",
      "Optimizer initialized.\n",
      "Utilities initialized.\n",
      "Graph built!\n",
      "Initialized\n",
      "Error = :9.08e-01; Runtime: 0.0s; Iterations = 0, grads =   7.666e-02, unitary_metric = 1.00000\n",
      "Error = :9.87e-04; Runtime: 0.3s; Iterations = 60, grads =   5.938e-04, unitary_metric = 0.99998\n",
      "data saved at: /project/ftchong/qoc/pranav/00037_Mar06.h5\n"
     ]
    }
   ],
   "source": [
    "total_time = 0.4\n",
    "steps = int(total_time * 20)\n",
    "uks, U_f = Grape(H0, Hops, Hnames, U, total_time, steps, states_concerned_list, convergence,\n",
    "                 reg_coeffs=reg_coeffs,\n",
    "                 use_gpu=False, sparse_H=False, method='ADAM', maxA=maxA,\n",
    "                 show_plots=False, file_name=file_name, data_path=data_path)"
   ]
  },
  {
   "cell_type": "markdown",
   "metadata": {},
   "source": [
    "---\n",
    "## RX(Θ) Gate: 2.6 ns (at most)\n",
    "Also here, the longest time is for theta = pi, as expected."
   ]
  },
  {
   "cell_type": "code",
   "execution_count": 22,
   "metadata": {
    "scrolled": true
   },
   "outputs": [],
   "source": [
    "N = 1\n",
    "connected_qubit_pairs = []\n",
    "H0 = hamiltonian.get_H0(N, d)\n",
    "Hops, Hnames = hamiltonian.get_Hops_and_Hnames(N, d, connected_qubit_pairs)\n",
    "states_concerned_list = hamiltonian.get_full_states_concerned_list(N, d)\n",
    "maxA = hamiltonian.get_maxA(N, d, connected_qubit_pairs)\n",
    "theta = np.pi\n",
    "U = np.array([[np.cos(theta / 2.0), np.sin(theta / 2.0) * -1j], [np.sin(theta / 2.0) * -1j, np.cos(theta / 2.0)]])\n",
    "U = transmon_gate(U, d)"
   ]
  },
  {
   "cell_type": "code",
   "execution_count": 30,
   "metadata": {},
   "outputs": [
    {
     "name": "stdout",
     "output_type": "stream",
     "text": [
      "data saved at: /project/ftchong/qoc/pranav/00045_Mar06.h5\n",
      "Using 6 Taylor terms and 0 Scaling & Squaring terms\n",
      "Building graph:\n",
      "Propagators initialized.\n",
      "Operators weight initialized.\n",
      "Intermediate propagation variables initialized.\n",
      "Intermediate propagators initialized.\n",
      "Vectors initialized.\n",
      "Training loss initialized.\n",
      "Optimizer initialized.\n",
      "Utilities initialized.\n",
      "Graph built!\n",
      "Initialized\n",
      "Error = :1.00e+00; Runtime: 0.1s; Iterations = 0, grads =   3.121e-04, unitary_metric = 1.00000\n",
      "Error = :1.09e-03; Runtime: 1.4s; Iterations = 100, grads =   1.701e-05, unitary_metric = 1.00000\n",
      "Error = :9.77e-04; Runtime: 1.5s; Iterations = 103, grads =   2.187e-05, unitary_metric = 1.00000\n",
      "data saved at: /project/ftchong/qoc/pranav/00045_Mar06.h5\n"
     ]
    }
   ],
   "source": [
    "total_time = 2.6\n",
    "steps = int(total_time * 20)\n",
    "uks, U_f = Grape(H0, Hops, Hnames, U, total_time, steps, states_concerned_list, convergence,\n",
    "                 reg_coeffs=reg_coeffs,\n",
    "                 use_gpu=False, sparse_H=False, method='ADAM', maxA=maxA,\n",
    "                 show_plots=False, file_name=file_name, data_path=data_path)"
   ]
  },
  {
   "cell_type": "code",
   "execution_count": null,
   "metadata": {},
   "outputs": [],
   "source": []
  }
 ],
 "metadata": {
  "kernelspec": {
   "display_name": "Python 2",
   "language": "python",
   "name": "python2"
  },
  "language_info": {
   "codemirror_mode": {
    "name": "ipython",
    "version": 3
   },
   "file_extension": ".py",
   "mimetype": "text/x-python",
   "name": "python",
   "nbconvert_exporter": "python",
   "pygments_lexer": "ipython3",
   "version": "3.6.8"
  }
 },
 "nbformat": 4,
 "nbformat_minor": 2
}
