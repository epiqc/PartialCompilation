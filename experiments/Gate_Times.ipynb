{
 "cells": [
  {
   "cell_type": "markdown",
   "metadata": {},
   "source": [
    "NOTE: I am defining the gate time as the shortest `total_time` where the error gets below 10^-3 within 2000 iterations of QOC.\n",
    "\n",
    "I determined this shortest time by binary searching. This notebook just shows the final `total_time` found for each gate."
   ]
  },
  {
   "cell_type": "markdown",
   "metadata": {},
   "source": [
    "---\n",
    "## Setup"
   ]
  },
  {
   "cell_type": "code",
   "execution_count": 1,
   "metadata": {},
   "outputs": [],
   "source": [
    "from quantum_optimal_control.helper_functions.grape_functions import transmon_gate\n",
    "from quantum_optimal_control.main_grape.grape import Grape\n",
    "from quantum_optimal_control.core import hamiltonian"
   ]
  },
  {
   "cell_type": "code",
   "execution_count": 2,
   "metadata": {},
   "outputs": [],
   "source": [
    "import numpy as np\n",
    "import os, sys, math\n",
    "from datetime import datetime\n",
    "sys.path.append('..'); import config\n",
    "\n",
    "data_path = config.DATA_PATH\n",
    "file_name = datetime.today().strftime('%h%d')"
   ]
  },
  {
   "cell_type": "code",
   "execution_count": 3,
   "metadata": {
    "scrolled": true
   },
   "outputs": [],
   "source": [
    "d = 2  # this is the number of energy levels to consider (i.e. d-level qudits)\n",
    "max_iterations = 2000\n",
    "decay =  max_iterations / 2\n",
    "convergence = {'rate': 0.01, 'max_iterations': max_iterations,\n",
    "               'conv_target':1e-3, 'learning_rate_decay':decay, 'min_grad': 1e-12}\n",
    "reg_coeffs = {}"
   ]
  },
  {
   "cell_type": "markdown",
   "metadata": {},
   "source": [
    "----\n",
    "## H Gate: 1.4 ns"
   ]
  },
  {
   "cell_type": "code",
   "execution_count": 4,
   "metadata": {
    "scrolled": true
   },
   "outputs": [],
   "source": [
    "N = 1\n",
    "connected_qubit_pairs = []\n",
    "H0 = hamiltonian.get_H0(N, d)\n",
    "Hops, Hnames = hamiltonian.get_Hops_and_Hnames(N, d, connected_qubit_pairs)\n",
    "states_concerned_list = hamiltonian.get_full_states_concerned_list(N, d)\n",
    "maxA = hamiltonian.get_maxA(N, d, connected_qubit_pairs)\n",
    "U = np.array([[1, 1], [1, -1]]) / math.sqrt(2)\n",
    "U = transmon_gate(U, d)"
   ]
  },
  {
   "cell_type": "code",
   "execution_count": 8,
   "metadata": {},
   "outputs": [
    {
     "name": "stdout",
     "output_type": "stream",
     "text": [
      "data saved at: /project/ftchong/qoc/pranav/00003_Mar26.h5\n",
      "Using 4 Taylor terms and 1 Scaling & Squaring terms\n",
      "Building graph:\n",
      "Propagators initialized.\n",
      "Operators weight initialized.\n",
      "Intermediate propagation variables initialized.\n",
      "Intermediate propagators initialized.\n",
      "Vectors initialized.\n",
      "Training loss initialized.\n",
      "Optimizer initialized.\n",
      "Utilities initialized.\n",
      "Graph built!\n",
      "Initialized\n",
      "Saved model at: /tmp/grape10236.cpkt\n",
      "Error = :9.78e-01; Runtime: 0.1s; Iterations = 0, grads =   3.072e-02, unitary_metric = 1.00000\n",
      "Error = :7.68e-02; Runtime: 0.6s; Iterations = 100, grads =   2.243e-03, unitary_metric = 1.00000\n",
      "Error = :9.81e-03; Runtime: 1.0s; Iterations = 200, grads =   1.321e-04, unitary_metric = 1.00000\n",
      "Error = :2.90e-03; Runtime: 1.4s; Iterations = 300, grads =   2.424e-05, unitary_metric = 1.00000\n",
      "Error = :1.22e-03; Runtime: 1.8s; Iterations = 400, grads =   7.549e-06, unitary_metric = 1.00000\n",
      "Error = :1.00e-03; Runtime: 2.0s; Iterations = 427, grads =   5.811e-06, unitary_metric = 1.00000\n",
      "data saved at: /project/ftchong/qoc/pranav/00003_Mar26.h5\n"
     ]
    }
   ],
   "source": [
    "total_time = 1.4\n",
    "steps = int(total_time * 20)\n",
    "SS = Grape(H0, Hops, Hnames, U, total_time, steps, states_concerned_list, convergence,\n",
    "                 reg_coeffs=reg_coeffs,\n",
    "                 use_gpu=False, sparse_H=False, method='ADAM', maxA=maxA,\n",
    "                 show_plots=False, file_name=file_name, data_path=data_path)"
   ]
  },
  {
   "cell_type": "markdown",
   "metadata": {},
   "source": [
    "---\n",
    "## CNOT Gate: 3.8 ns"
   ]
  },
  {
   "cell_type": "code",
   "execution_count": 9,
   "metadata": {
    "scrolled": true
   },
   "outputs": [],
   "source": [
    "N = 2\n",
    "connected_qubit_pairs = [(0, 1)]\n",
    "H0 = hamiltonian.get_H0(N, d)\n",
    "Hops, Hnames = hamiltonian.get_Hops_and_Hnames(N, d, connected_qubit_pairs)\n",
    "states_concerned_list = hamiltonian.get_full_states_concerned_list(N, d)\n",
    "maxA = hamiltonian.get_maxA(N, d, connected_qubit_pairs)\n",
    "U = np.array([[1, 0, 0, 0], [0, 1, 0, 0], [0, 0, 0, 1], [0, 0, 1, 0]])\n",
    "U = transmon_gate(U, d)"
   ]
  },
  {
   "cell_type": "code",
   "execution_count": 12,
   "metadata": {},
   "outputs": [
    {
     "name": "stdout",
     "output_type": "stream",
     "text": [
      "data saved at: /project/ftchong/qoc/pranav/00006_Mar26.h5\n",
      "Using 6 Taylor terms and 1 Scaling & Squaring terms\n",
      "Building graph:\n",
      "Propagators initialized.\n",
      "Operators weight initialized.\n",
      "Intermediate propagation variables initialized.\n",
      "Intermediate propagators initialized.\n",
      "Vectors initialized.\n",
      "Training loss initialized.\n",
      "Optimizer initialized.\n",
      "Utilities initialized.\n",
      "Graph built!\n",
      "Initialized\n",
      "Saved model at: /tmp/grape2198.cpkt\n",
      "Error = :7.94e-01; Runtime: 0.1s; Iterations = 0, grads =   7.174e-02, unitary_metric = 1.00000\n",
      "Error = :5.25e-02; Runtime: 1.0s; Iterations = 100, grads =   3.771e-04, unitary_metric = 1.00000\n",
      "Error = :4.76e-03; Runtime: 1.8s; Iterations = 200, grads =   7.258e-06, unitary_metric = 1.00000\n",
      "Error = :2.21e-03; Runtime: 2.5s; Iterations = 300, grads =   1.666e-06, unitary_metric = 1.00000\n",
      "Error = :1.50e-03; Runtime: 3.2s; Iterations = 400, grads =   6.760e-07, unitary_metric = 1.00000\n",
      "Error = :1.19e-03; Runtime: 3.9s; Iterations = 500, grads =   3.683e-07, unitary_metric = 1.00000\n",
      "Error = :1.02e-03; Runtime: 4.6s; Iterations = 600, grads =   2.402e-07, unitary_metric = 1.00000\n",
      "Error = :1.00e-03; Runtime: 4.9s; Iterations = 615, grads =   2.281e-07, unitary_metric = 1.00000\n",
      "data saved at: /project/ftchong/qoc/pranav/00006_Mar26.h5\n"
     ]
    }
   ],
   "source": [
    "total_time = 3.8\n",
    "steps = int(total_time * 20)\n",
    "SS = Grape(H0, Hops, Hnames, U, total_time, steps, states_concerned_list, convergence,\n",
    "                 reg_coeffs=reg_coeffs,\n",
    "                 use_gpu=False, sparse_H=False, method='ADAM', maxA=maxA,\n",
    "                 show_plots=False, file_name=file_name, data_path=data_path)"
   ]
  },
  {
   "cell_type": "markdown",
   "metadata": {},
   "source": [
    "---\n",
    "## SWAP Gate: 7.4 ns"
   ]
  },
  {
   "cell_type": "code",
   "execution_count": 36,
   "metadata": {},
   "outputs": [],
   "source": [
    "N = 2\n",
    "connected_qubit_pairs = [(0, 1)]\n",
    "H0 = hamiltonian.get_H0(N, d)\n",
    "Hops, Hnames = hamiltonian.get_Hops_and_Hnames(N, d, connected_qubit_pairs)\n",
    "states_concerned_list = hamiltonian.get_full_states_concerned_list(N, d)\n",
    "maxA = hamiltonian.get_maxA(N, d, connected_qubit_pairs)\n",
    "U = np.array([[1, 0, 0, 0], [0, 0, 1, 0], [0, 1, 0, 0], [0, 0, 0, 1]])\n",
    "U = transmon_gate(U, d)"
   ]
  },
  {
   "cell_type": "code",
   "execution_count": 34,
   "metadata": {},
   "outputs": [
    {
     "name": "stdout",
     "output_type": "stream",
     "text": [
      "data saved at: /project/ftchong/qoc/pranav/00024_Mar26.h5\n",
      "Using 6 Taylor terms and 1 Scaling & Squaring terms\n",
      "Building graph:\n",
      "Propagators initialized.\n",
      "Operators weight initialized.\n",
      "Intermediate propagation variables initialized.\n",
      "Intermediate propagators initialized.\n",
      "Vectors initialized.\n",
      "Training loss initialized.\n",
      "Optimizer initialized.\n",
      "Utilities initialized.\n",
      "Graph built!\n",
      "Initialized\n",
      "Saved model at: /tmp/grape68884.cpkt\n",
      "Error = :8.51e-01; Runtime: 0.2s; Iterations = 0, grads =   4.893e-01, unitary_metric = 1.00000\n",
      "Error = :2.81e-01; Runtime: 1.6s; Iterations = 100, grads =   1.075e-02, unitary_metric = 0.99999\n",
      "Error = :2.12e-03; Runtime: 2.7s; Iterations = 200, grads =   2.376e-06, unitary_metric = 0.99999\n",
      "Error = :9.98e-04; Runtime: 3.7s; Iterations = 285, grads =   5.048e-07, unitary_metric = 0.99999\n",
      "data saved at: /project/ftchong/qoc/pranav/00024_Mar26.h5\n"
     ]
    }
   ],
   "source": [
    "total_time = 7.4\n",
    "steps = int(total_time * 20)\n",
    "SS = Grape(H0, Hops, Hnames, U, total_time, steps, states_concerned_list, convergence,\n",
    "                 reg_coeffs=reg_coeffs,\n",
    "                 use_gpu=False, sparse_H=False, method='ADAM', maxA=maxA,\n",
    "                 show_plots=False, file_name=file_name, data_path=data_path)"
   ]
  },
  {
   "cell_type": "markdown",
   "metadata": {},
   "source": [
    "---\n",
    "## RZ(Θ) Gate: 0.4 ns (at most)\n",
    "As expected, theta=pi takes the longest to execute."
   ]
  },
  {
   "cell_type": "code",
   "execution_count": 21,
   "metadata": {
    "scrolled": true
   },
   "outputs": [],
   "source": [
    "N = 1\n",
    "connected_qubit_pairs = []\n",
    "H0 = hamiltonian.get_H0(N, d)\n",
    "Hops, Hnames = hamiltonian.get_Hops_and_Hnames(N, d, connected_qubit_pairs)\n",
    "states_concerned_list = hamiltonian.get_full_states_concerned_list(N, d)\n",
    "maxA = hamiltonian.get_maxA(N, d, connected_qubit_pairs)\n",
    "theta = np.pi\n",
    "U = np.array([[1, 0], [0, np.exp(1j * theta)]])\n",
    "U = transmon_gate(U, d)"
   ]
  },
  {
   "cell_type": "code",
   "execution_count": 24,
   "metadata": {},
   "outputs": [
    {
     "name": "stdout",
     "output_type": "stream",
     "text": [
      "data saved at: /project/ftchong/qoc/pranav/00016_Mar26.h5\n",
      "Using 4 Taylor terms and 1 Scaling & Squaring terms\n",
      "Building graph:\n",
      "Propagators initialized.\n",
      "Operators weight initialized.\n",
      "Intermediate propagation variables initialized.\n",
      "Intermediate propagators initialized.\n",
      "Vectors initialized.\n",
      "Training loss initialized.\n",
      "Optimizer initialized.\n",
      "Utilities initialized.\n",
      "Graph built!\n",
      "Initialized\n",
      "Saved model at: /tmp/grape70079.cpkt\n",
      "Error = :8.90e-01; Runtime: 0.0s; Iterations = 0, grads =   7.791e-02, unitary_metric = 1.00000\n",
      "Error = :9.65e-03; Runtime: 0.4s; Iterations = 100, grads =   3.175e-03, unitary_metric = 0.99999\n",
      "Error = :9.55e-04; Runtime: 0.6s; Iterations = 142, grads =   2.698e-04, unitary_metric = 0.99999\n",
      "data saved at: /project/ftchong/qoc/pranav/00016_Mar26.h5\n"
     ]
    }
   ],
   "source": [
    "total_time = 0.4\n",
    "steps = int(total_time * 20)\n",
    "SS = Grape(H0, Hops, Hnames, U, total_time, steps, states_concerned_list, convergence,\n",
    "                 reg_coeffs=reg_coeffs,\n",
    "                 use_gpu=False, sparse_H=False, method='ADAM', maxA=maxA,\n",
    "                 show_plots=False, file_name=file_name, data_path=data_path)"
   ]
  },
  {
   "cell_type": "markdown",
   "metadata": {},
   "source": [
    "---\n",
    "## RX(Θ) Gate: 2.5 ns (at most)\n",
    "Also here, the longest time is for theta = pi, as expected."
   ]
  },
  {
   "cell_type": "code",
   "execution_count": 25,
   "metadata": {
    "scrolled": true
   },
   "outputs": [],
   "source": [
    "N = 1\n",
    "connected_qubit_pairs = []\n",
    "H0 = hamiltonian.get_H0(N, d)\n",
    "Hops, Hnames = hamiltonian.get_Hops_and_Hnames(N, d, connected_qubit_pairs)\n",
    "states_concerned_list = hamiltonian.get_full_states_concerned_list(N, d)\n",
    "maxA = hamiltonian.get_maxA(N, d, connected_qubit_pairs)\n",
    "theta = np.pi\n",
    "U = np.array([[np.cos(theta / 2.0), np.sin(theta / 2.0) * -1j], [np.sin(theta / 2.0) * -1j, np.cos(theta / 2.0)]])\n",
    "U = transmon_gate(U, d)"
   ]
  },
  {
   "cell_type": "code",
   "execution_count": 28,
   "metadata": {},
   "outputs": [
    {
     "name": "stdout",
     "output_type": "stream",
     "text": [
      "data saved at: /project/ftchong/qoc/pranav/00019_Mar26.h5\n",
      "Using 4 Taylor terms and 1 Scaling & Squaring terms\n",
      "Building graph:\n",
      "Propagators initialized.\n",
      "Operators weight initialized.\n",
      "Intermediate propagation variables initialized.\n",
      "Intermediate propagators initialized.\n",
      "Vectors initialized.\n",
      "Training loss initialized.\n",
      "Optimizer initialized.\n",
      "Utilities initialized.\n",
      "Graph built!\n",
      "Initialized\n",
      "Saved model at: /tmp/grape66818.cpkt\n",
      "Error = :9.99e-01; Runtime: 0.1s; Iterations = 0, grads =   8.302e-05, unitary_metric = 1.00000\n",
      "Error = :6.43e-02; Runtime: 0.7s; Iterations = 100, grads =   1.763e-03, unitary_metric = 1.00000\n",
      "Error = :7.91e-03; Runtime: 1.2s; Iterations = 200, grads =   8.551e-05, unitary_metric = 1.00000\n",
      "Error = :2.63e-03; Runtime: 1.8s; Iterations = 300, grads =   3.361e-05, unitary_metric = 1.00000\n",
      "Error = :1.23e-03; Runtime: 2.3s; Iterations = 400, grads =   5.336e-06, unitary_metric = 1.00000\n",
      "Error = :9.97e-04; Runtime: 2.6s; Iterations = 435, grads =   3.873e-06, unitary_metric = 1.00000\n",
      "data saved at: /project/ftchong/qoc/pranav/00019_Mar26.h5\n"
     ]
    }
   ],
   "source": [
    "total_time = 2.5\n",
    "steps = int(total_time * 20)\n",
    "SS = Grape(H0, Hops, Hnames, U, total_time, steps, states_concerned_list, convergence,\n",
    "                 reg_coeffs=reg_coeffs,\n",
    "                 use_gpu=False, sparse_H=False, method='ADAM', maxA=maxA,\n",
    "                 show_plots=False, file_name=file_name, data_path=data_path)"
   ]
  },
  {
   "cell_type": "code",
   "execution_count": null,
   "metadata": {},
   "outputs": [],
   "source": []
  }
 ],
 "metadata": {
  "kernelspec": {
   "display_name": "Python 2",
   "language": "python",
   "name": "python2"
  },
  "language_info": {
   "codemirror_mode": {
    "name": "ipython",
    "version": 3
   },
   "file_extension": ".py",
   "mimetype": "text/x-python",
   "name": "python",
   "nbconvert_exporter": "python",
   "pygments_lexer": "ipython3",
   "version": "3.6.8"
  }
 },
 "nbformat": 4,
 "nbformat_minor": 2
}
