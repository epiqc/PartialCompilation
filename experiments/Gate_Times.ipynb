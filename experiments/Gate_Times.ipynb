{
 "cells": [
  {
   "cell_type": "markdown",
   "metadata": {},
   "source": [
    "NOTE: I am defining the gate time as the shortest `total_time` where the error gets below 10^-3 within 2000 iterations of QOC.\n",
    "\n",
    "I determined this shortest time by binary searching. This notebook just shows the final `total_time` found for each gate."
   ]
  },
  {
   "cell_type": "markdown",
   "metadata": {},
   "source": [
    "---\n",
    "## Setup"
   ]
  },
  {
   "cell_type": "code",
   "execution_count": 1,
   "metadata": {},
   "outputs": [],
   "source": [
    "from quantum_optimal_control.helper_functions.grape_functions import transmon_gate\n",
    "from quantum_optimal_control.main_grape.grape import Grape\n",
    "from quantum_optimal_control.core import hamiltonian"
   ]
  },
  {
   "cell_type": "code",
   "execution_count": 2,
   "metadata": {},
   "outputs": [],
   "source": [
    "import numpy as np\n",
    "import os, sys, math\n",
    "from datetime import datetime\n",
    "sys.path.append('..'); import config\n",
    "\n",
    "data_path = config.DATA_PATH\n",
    "file_name = datetime.today().strftime('%h%d')"
   ]
  },
  {
   "cell_type": "code",
   "execution_count": 3,
   "metadata": {
    "scrolled": true
   },
   "outputs": [],
   "source": [
    "d = 2  # this is the number of energy levels to consider (i.e. d-level qudits)\n",
    "max_iterations = 2000\n",
    "decay =  max_iterations / 2\n",
    "convergence = {'rate': 0.05, 'max_iterations': max_iterations,\n",
    "               'conv_target':1e-3, 'learning_rate_decay':decay, 'min_grad': 1e-12}\n",
    "reg_coeffs = {}"
   ]
  },
  {
   "cell_type": "markdown",
   "metadata": {},
   "source": [
    "----\n",
    "## H Gate: 1.4 ns"
   ]
  },
  {
   "cell_type": "code",
   "execution_count": 4,
   "metadata": {
    "scrolled": true
   },
   "outputs": [],
   "source": [
    "N = 1\n",
    "connected_qubit_pairs = []\n",
    "H0 = hamiltonian.get_H0(N, d)\n",
    "Hops, Hnames = hamiltonian.get_Hops_and_Hnames(N, d, connected_qubit_pairs)\n",
    "states_concerned_list = hamiltonian.get_full_states_concerned_list(N, d)\n",
    "maxA = hamiltonian.get_maxA(N, d, connected_qubit_pairs)\n",
    "U = np.array([[1, 1], [1, -1]]) / math.sqrt(2)\n",
    "U = transmon_gate(U, d)"
   ]
  },
  {
   "cell_type": "code",
   "execution_count": 21,
   "metadata": {},
   "outputs": [
    {
     "name": "stdout",
     "output_type": "stream",
     "text": [
      "data saved at: /project/ftchong/qoc/pranav/00018_Mar10.h5\n",
      "Using 4 Taylor terms and 1 Scaling & Squaring terms\n",
      "Building graph:\n",
      "Propagators initialized.\n",
      "Operators weight initialized.\n",
      "Intermediate propagation variables initialized.\n",
      "Intermediate propagators initialized.\n",
      "Vectors initialized.\n",
      "Training loss initialized.\n",
      "Optimizer initialized.\n",
      "Utilities initialized.\n",
      "Graph built!\n",
      "Initialized\n",
      "Starting L-BFGS-B Optimization\n",
      "Error = :9.29e-01; Runtime: 0.1s; Iterations = 0, grads =   9.140e-02, unitary_metric = 1.00000\n",
      "Target fidelity reached\n",
      "L-BFGS-B optimization done\n",
      "b'CONVERGENCE: NORM_OF_PROJECTED_GRADIENT_<=_PGTOL'\n",
      "Error = 5.47e-04\n",
      "Total time is 0.5340192317962646\n",
      "Error = :5.47e-04; Runtime: 0.5s; Iterations = 15, grads =   7.368e-05, unitary_metric = 1.00000\n",
      "data saved at: /project/ftchong/qoc/pranav/00018_Mar10.h5\n"
     ]
    }
   ],
   "source": [
    "total_time = 1.4\n",
    "steps = int(total_time * 20)\n",
    "SS = Grape(H0, Hops, Hnames, U, total_time, steps, states_concerned_list, convergence,\n",
    "                 reg_coeffs=reg_coeffs,\n",
    "                 use_gpu=False, sparse_H=False, method='L-BFGS-B', maxA=maxA,\n",
    "                 show_plots=False, file_name=file_name, data_path=data_path)"
   ]
  },
  {
   "cell_type": "markdown",
   "metadata": {},
   "source": [
    "---\n",
    "## CNOT Gate: 3.8 ns"
   ]
  },
  {
   "cell_type": "code",
   "execution_count": 26,
   "metadata": {
    "scrolled": true
   },
   "outputs": [],
   "source": [
    "N = 2\n",
    "connected_qubit_pairs = [(0, 1)]\n",
    "H0 = hamiltonian.get_H0(N, d)\n",
    "Hops, Hnames = hamiltonian.get_Hops_and_Hnames(N, d, connected_qubit_pairs)\n",
    "states_concerned_list = hamiltonian.get_full_states_concerned_list(N, d)\n",
    "maxA = hamiltonian.get_maxA(N, d, connected_qubit_pairs)\n",
    "U = np.array([[1, 0, 0, 0], [0, 1, 0, 0], [0, 0, 0, 1], [0, 0, 1, 0]])\n",
    "U = transmon_gate(U, d)"
   ]
  },
  {
   "cell_type": "code",
   "execution_count": 35,
   "metadata": {},
   "outputs": [
    {
     "name": "stdout",
     "output_type": "stream",
     "text": [
      "data saved at: /project/ftchong/qoc/pranav/00028_Mar10.h5\n",
      "Using 6 Taylor terms and 1 Scaling & Squaring terms\n",
      "Building graph:\n",
      "Propagators initialized.\n",
      "Operators weight initialized.\n",
      "Intermediate propagation variables initialized.\n",
      "Intermediate propagators initialized.\n",
      "Vectors initialized.\n",
      "Training loss initialized.\n",
      "Optimizer initialized.\n",
      "Utilities initialized.\n",
      "Graph built!\n",
      "Initialized\n",
      "Starting L-BFGS-B Optimization\n",
      "Error = :7.61e-01; Runtime: 0.2s; Iterations = 0, grads =   1.997e-02, unitary_metric = 1.00000\n",
      "Error = :6.20e-03; Runtime: 5.4s; Iterations = 100, grads =   1.545e-04, unitary_metric = 1.00000\n",
      "Error = :1.18e-03; Runtime: 11.6s; Iterations = 200, grads =   7.664e-05, unitary_metric = 1.00000\n",
      "Target fidelity reached\n",
      "L-BFGS-B optimization done\n",
      "b'CONVERGENCE: NORM_OF_PROJECTED_GRADIENT_<=_PGTOL'\n",
      "Error = 9.98e-04\n",
      "Total time is 13.190440893173218\n",
      "Error = :9.98e-04; Runtime: 13.2s; Iterations = 221, grads =   1.104e-06, unitary_metric = 1.00000\n",
      "data saved at: /project/ftchong/qoc/pranav/00028_Mar10.h5\n"
     ]
    }
   ],
   "source": [
    "total_time = 3.8\n",
    "steps = int(total_time * 20)\n",
    "SS = Grape(H0, Hops, Hnames, U, total_time, steps, states_concerned_list, convergence,\n",
    "                 reg_coeffs=reg_coeffs,\n",
    "                 use_gpu=False, sparse_H=False, method='L-BFGS-B', maxA=maxA,\n",
    "                 show_plots=False, file_name=file_name, data_path=data_path)"
   ]
  },
  {
   "cell_type": "markdown",
   "metadata": {},
   "source": [
    "---\n",
    "## SWAP Gate: 7.4 ns  (for some reason, converges with ADAM but not with L-BFGS-B)"
   ]
  },
  {
   "cell_type": "code",
   "execution_count": 37,
   "metadata": {},
   "outputs": [],
   "source": [
    "N = 2\n",
    "connected_qubit_pairs = [(0, 1)]\n",
    "H0 = hamiltonian.get_H0(N, d)\n",
    "Hops, Hnames = hamiltonian.get_Hops_and_Hnames(N, d, connected_qubit_pairs)\n",
    "states_concerned_list = hamiltonian.get_full_states_concerned_list(N, d)\n",
    "maxA = hamiltonian.get_maxA(N, d, connected_qubit_pairs)\n",
    "U = np.array([[1, 0, 0, 0], [0, 0, 1, 0], [0, 1, 0, 0], [0, 0, 0, 1]])\n",
    "U = transmon_gate(U, d)"
   ]
  },
  {
   "cell_type": "code",
   "execution_count": 49,
   "metadata": {},
   "outputs": [
    {
     "name": "stdout",
     "output_type": "stream",
     "text": [
      "data saved at: /project/ftchong/qoc/pranav/00041_Mar10.h5\n",
      "Using 6 Taylor terms and 1 Scaling & Squaring terms\n",
      "Building graph:\n",
      "Propagators initialized.\n",
      "Operators weight initialized.\n",
      "Intermediate propagation variables initialized.\n",
      "Intermediate propagators initialized.\n",
      "Vectors initialized.\n",
      "Training loss initialized.\n",
      "Optimizer initialized.\n",
      "Utilities initialized.\n",
      "Graph built!\n",
      "Initialized\n",
      "Error = :7.68e-01; Runtime: 0.2s; Iterations = 0, grads =   1.292e-01, unitary_metric = 1.00000\n",
      "Error = :1.01e-03; Runtime: 1.5s; Iterations = 100, grads =   5.757e-05, unitary_metric = 1.00000\n",
      "Error = :8.47e-04; Runtime: 1.8s; Iterations = 115, grads =   2.326e-05, unitary_metric = 1.00000\n",
      "data saved at: /project/ftchong/qoc/pranav/00041_Mar10.h5\n"
     ]
    }
   ],
   "source": [
    "total_time = 7.4\n",
    "steps = int(total_time * 20)\n",
    "SS = Grape(H0, Hops, Hnames, U, total_time, steps, states_concerned_list, convergence,\n",
    "                 reg_coeffs=reg_coeffs,\n",
    "                 use_gpu=False, sparse_H=False, method='ADAM', maxA=maxA,\n",
    "                 show_plots=False, file_name=file_name, data_path=data_path)"
   ]
  },
  {
   "cell_type": "markdown",
   "metadata": {},
   "source": [
    "---\n",
    "## RZ(Θ) Gate: 0.4 ns (at most)\n",
    "As expected, theta=pi takes the longest to execute."
   ]
  },
  {
   "cell_type": "code",
   "execution_count": 50,
   "metadata": {
    "scrolled": true
   },
   "outputs": [],
   "source": [
    "N = 1\n",
    "connected_qubit_pairs = []\n",
    "H0 = hamiltonian.get_H0(N, d)\n",
    "Hops, Hnames = hamiltonian.get_Hops_and_Hnames(N, d, connected_qubit_pairs)\n",
    "states_concerned_list = hamiltonian.get_full_states_concerned_list(N, d)\n",
    "maxA = hamiltonian.get_maxA(N, d, connected_qubit_pairs)\n",
    "theta = np.pi\n",
    "U = np.array([[1, 0], [0, np.exp(1j * theta)]])\n",
    "U = transmon_gate(U, d)"
   ]
  },
  {
   "cell_type": "code",
   "execution_count": 56,
   "metadata": {},
   "outputs": [
    {
     "name": "stdout",
     "output_type": "stream",
     "text": [
      "data saved at: /project/ftchong/qoc/pranav/00046_Mar10.h5\n",
      "Using 4 Taylor terms and 1 Scaling & Squaring terms\n",
      "Building graph:\n",
      "Propagators initialized.\n",
      "Operators weight initialized.\n",
      "Intermediate propagation variables initialized.\n",
      "Intermediate propagators initialized.\n",
      "Vectors initialized.\n",
      "Training loss initialized.\n",
      "Optimizer initialized.\n",
      "Utilities initialized.\n",
      "Graph built!\n",
      "Initialized\n",
      "Starting L-BFGS-B Optimization\n",
      "Error = :1.00e+00; Runtime: 0.1s; Iterations = 0, grads =   4.016e-04, unitary_metric = 1.00000\n",
      "Target fidelity reached\n",
      "L-BFGS-B optimization done\n",
      "b'CONVERGENCE: NORM_OF_PROJECTED_GRADIENT_<=_PGTOL'\n",
      "Error = 4.64e-04\n",
      "Total time is 0.4011678695678711\n",
      "Error = :4.64e-04; Runtime: 0.4s; Iterations = 14, grads =   2.120e-05, unitary_metric = 1.00000\n",
      "data saved at: /project/ftchong/qoc/pranav/00046_Mar10.h5\n"
     ]
    }
   ],
   "source": [
    "total_time = 0.4\n",
    "steps = int(total_time * 20)\n",
    "SS = Grape(H0, Hops, Hnames, U, total_time, steps, states_concerned_list, convergence,\n",
    "                 reg_coeffs=reg_coeffs,\n",
    "                 use_gpu=False, sparse_H=False, method='L-BFGS-B', maxA=maxA,\n",
    "                 show_plots=False, file_name=file_name, data_path=data_path)"
   ]
  },
  {
   "cell_type": "markdown",
   "metadata": {},
   "source": [
    "---\n",
    "## RX(Θ) Gate: 2.5 ns (at most)\n",
    "Also here, the longest time is for theta = pi, as expected."
   ]
  },
  {
   "cell_type": "code",
   "execution_count": 57,
   "metadata": {
    "scrolled": true
   },
   "outputs": [],
   "source": [
    "N = 1\n",
    "connected_qubit_pairs = []\n",
    "H0 = hamiltonian.get_H0(N, d)\n",
    "Hops, Hnames = hamiltonian.get_Hops_and_Hnames(N, d, connected_qubit_pairs)\n",
    "states_concerned_list = hamiltonian.get_full_states_concerned_list(N, d)\n",
    "maxA = hamiltonian.get_maxA(N, d, connected_qubit_pairs)\n",
    "theta = np.pi\n",
    "U = np.array([[np.cos(theta / 2.0), np.sin(theta / 2.0) * -1j], [np.sin(theta / 2.0) * -1j, np.cos(theta / 2.0)]])\n",
    "U = transmon_gate(U, d)"
   ]
  },
  {
   "cell_type": "code",
   "execution_count": 65,
   "metadata": {},
   "outputs": [
    {
     "name": "stdout",
     "output_type": "stream",
     "text": [
      "data saved at: /project/ftchong/qoc/pranav/00054_Mar10.h5\n",
      "Using 6 Taylor terms and 0 Scaling & Squaring terms\n",
      "Building graph:\n",
      "Propagators initialized.\n",
      "Operators weight initialized.\n",
      "Intermediate propagation variables initialized.\n",
      "Intermediate propagators initialized.\n",
      "Vectors initialized.\n",
      "Training loss initialized.\n",
      "Optimizer initialized.\n",
      "Utilities initialized.\n",
      "Graph built!\n",
      "Initialized\n",
      "Starting L-BFGS-B Optimization\n",
      "Error = :1.00e+00; Runtime: 0.1s; Iterations = 0, grads =   3.648e-06, unitary_metric = 1.00000\n",
      "Target fidelity reached\n",
      "L-BFGS-B optimization done\n",
      "b'CONVERGENCE: NORM_OF_PROJECTED_GRADIENT_<=_PGTOL'\n",
      "Error = 9.43e-04\n",
      "Total time is 0.5548291206359863\n",
      "Error = :9.43e-04; Runtime: 0.6s; Iterations = 10, grads =   1.044e-04, unitary_metric = 1.00000\n",
      "data saved at: /project/ftchong/qoc/pranav/00054_Mar10.h5\n"
     ]
    }
   ],
   "source": [
    "total_time = 2.5\n",
    "steps = int(total_time * 20)\n",
    "SS = Grape(H0, Hops, Hnames, U, total_time, steps, states_concerned_list, convergence,\n",
    "                 reg_coeffs=reg_coeffs,\n",
    "                 use_gpu=False, sparse_H=False, method='L-BFGS-B', maxA=maxA,\n",
    "                 show_plots=False, file_name=file_name, data_path=data_path)"
   ]
  },
  {
   "cell_type": "code",
   "execution_count": null,
   "metadata": {},
   "outputs": [],
   "source": []
  }
 ],
 "metadata": {
  "kernelspec": {
   "display_name": "Python 2",
   "language": "python",
   "name": "python2"
  },
  "language_info": {
   "codemirror_mode": {
    "name": "ipython",
    "version": 3
   },
   "file_extension": ".py",
   "mimetype": "text/x-python",
   "name": "python",
   "nbconvert_exporter": "python",
   "pygments_lexer": "ipython3",
   "version": "3.6.8"
  }
 },
 "nbformat": 4,
 "nbformat_minor": 2
}
