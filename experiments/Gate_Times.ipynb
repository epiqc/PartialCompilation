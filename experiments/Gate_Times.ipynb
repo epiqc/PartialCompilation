{
 "cells": [
  {
   "cell_type": "markdown",
   "metadata": {},
   "source": [
    "NOTE: I am defining the gate time as the shortest `total_time` where the error gets below 10^-3 within 2000 iterations of QOC.\n",
    "\n",
    "I determined this shortest time by binary searching. This notebook just shows the final `total_time` found for each gate."
   ]
  },
  {
   "cell_type": "markdown",
   "metadata": {},
   "source": [
    "---\n",
    "## Setup"
   ]
  },
  {
   "cell_type": "code",
   "execution_count": 1,
   "metadata": {},
   "outputs": [],
   "source": [
    "from quantum_optimal_control.helper_functions.grape_functions import transmon_gate\n",
    "from quantum_optimal_control.main_grape.grape import Grape\n",
    "from quantum_optimal_control.core import hamiltonian"
   ]
  },
  {
   "cell_type": "code",
   "execution_count": 2,
   "metadata": {},
   "outputs": [],
   "source": [
    "import numpy as np\n",
    "import os, sys, math\n",
    "from datetime import datetime\n",
    "sys.path.append('..'); import config\n",
    "\n",
    "data_path = config.DATA_PATH\n",
    "file_name = datetime.today().strftime('%h%d')"
   ]
  },
  {
   "cell_type": "code",
   "execution_count": 3,
   "metadata": {
    "scrolled": true
   },
   "outputs": [],
   "source": [
    "d = 2  # this is the number of energy levels to consider (i.e. d-level qudits)\n",
    "max_iterations = 2000\n",
    "decay =  max_iterations / 2\n",
    "convergence = {'rate':0.02, 'max_iterations':max_iterations,\n",
    "               'conv_target':1e-3, 'learning_rate_decay':decay, 'min_grad': 1e-5}\n",
    "reg_coeffs = {'dwdt': 0.001, 'envelope': 0.01}"
   ]
  },
  {
   "cell_type": "markdown",
   "metadata": {},
   "source": [
    "----\n",
    "## H Gate: 5.1 ns"
   ]
  },
  {
   "cell_type": "code",
   "execution_count": 23,
   "metadata": {
    "scrolled": true
   },
   "outputs": [],
   "source": [
    "N = 1\n",
    "connected_qubit_pairs = []\n",
    "H0 = hamiltonian.get_H0(N, d, connected_qubit_pairs)\n",
    "Hops, Hnames = hamiltonian.get_Hops_and_Hnames(N, d)\n",
    "states_concerned_list = hamiltonian.get_full_states_concerned_list(N, d)\n",
    "maxA = hamiltonian.get_maxA(N, d)\n",
    "U = np.array([[1, 1], [1, -1]]) / math.sqrt(2)\n",
    "U = transmon_gate(U, d)"
   ]
  },
  {
   "cell_type": "code",
   "execution_count": 22,
   "metadata": {},
   "outputs": [
    {
     "name": "stdout",
     "output_type": "stream",
     "text": [
      "data saved at: /project/ftchong/qoc/pranav/00011_Feb24.h5\n",
      "Using 7 Taylor terms and 2 Scaling & Squaring terms\n",
      "Building graph:\n",
      "Propagators initialized.\n",
      "Operators weight initialized.\n",
      "Intermediate propagation variables initialized.\n",
      "Intermediate propagators initialized.\n",
      "Vectors initialized.\n",
      "Training loss initialized.\n",
      "Optimizer initialized.\n",
      "Utilities initialized.\n",
      "Graph built!\n",
      "Initialized\n",
      "Error = :5.27e-01; Runtime: 0.1s; Iterations = 0, grads =   2.627e-02, unitary_metric = 0.99999\n",
      "Error = :9.51e-04; Runtime: 1.3s; Iterations = 36, grads =   3.546e-03, unitary_metric = 1.00000\n",
      "data saved at: /project/ftchong/qoc/pranav/00011_Feb24.h5\n"
     ]
    }
   ],
   "source": [
    "total_time = 5.1\n",
    "steps = int(total_time * 20)\n",
    "uks, U_f = Grape(H0, Hops, Hnames, U, total_time, steps, states_concerned_list, convergence,\n",
    "                 reg_coeffs=reg_coeffs,\n",
    "                 use_gpu=False, sparse_H=False, method='ADAM', maxA=maxA,\n",
    "                 show_plots=False, file_name=file_name, data_path=data_path)"
   ]
  },
  {
   "cell_type": "markdown",
   "metadata": {},
   "source": [
    "---\n",
    "## CNOT Gate: 14.4 ns"
   ]
  },
  {
   "cell_type": "code",
   "execution_count": 24,
   "metadata": {
    "scrolled": true
   },
   "outputs": [],
   "source": [
    "N = 2\n",
    "connected_qubit_pairs = [(0, 1)]\n",
    "H0 = hamiltonian.get_H0(N, d, connected_qubit_pairs)\n",
    "Hops, Hnames = hamiltonian.get_Hops_and_Hnames(N, d)\n",
    "states_concerned_list = hamiltonian.get_full_states_concerned_list(N, d)\n",
    "maxA = hamiltonian.get_maxA(N, d)\n",
    "U = np.array([[1, 0, 0, 0], [0, 1, 0, 0], [0, 0, 0, 1], [0, 0, 1, 0]])\n",
    "U = transmon_gate(U, d)"
   ]
  },
  {
   "cell_type": "code",
   "execution_count": 30,
   "metadata": {},
   "outputs": [
    {
     "name": "stdout",
     "output_type": "stream",
     "text": [
      "data saved at: /project/ftchong/qoc/pranav/00017_Feb24.h5\n",
      "Using 6 Taylor terms and 4 Scaling & Squaring terms\n",
      "Building graph:\n",
      "Propagators initialized.\n",
      "Operators weight initialized.\n",
      "Intermediate propagation variables initialized.\n",
      "Intermediate propagators initialized.\n",
      "Vectors initialized.\n",
      "Training loss initialized.\n",
      "Optimizer initialized.\n",
      "Utilities initialized.\n",
      "Graph built!\n",
      "Initialized\n",
      "Error = :9.50e-01; Runtime: 0.3s; Iterations = 0, grads =   4.253e-02, unitary_metric = 1.00005\n",
      "Error = :1.31e-02; Runtime: 9.2s; Iterations = 100, grads =   3.877e-03, unitary_metric = 0.99998\n",
      "Error = :2.03e-02; Runtime: 18.5s; Iterations = 200, grads =   5.845e-03, unitary_metric = 0.99997\n",
      "Error = :1.07e-02; Runtime: 29.0s; Iterations = 300, grads =   1.913e-03, unitary_metric = 1.00000\n",
      "Error = :6.14e-03; Runtime: 39.3s; Iterations = 400, grads =   5.209e-02, unitary_metric = 0.99999\n",
      "Error = :9.12e-04; Runtime: 49.7s; Iterations = 500, grads =   1.455e-04, unitary_metric = 0.99998\n",
      "data saved at: /project/ftchong/qoc/pranav/00017_Feb24.h5\n"
     ]
    }
   ],
   "source": [
    "total_time = 14.4\n",
    "steps = int(total_time * 20)\n",
    "uks, U_f = Grape(H0, Hops, Hnames, U, total_time, steps, states_concerned_list, convergence,\n",
    "                 reg_coeffs=reg_coeffs,\n",
    "                 use_gpu=False, sparse_H=False, method='ADAM', maxA=maxA,\n",
    "                 show_plots=False, file_name=file_name, data_path=data_path)"
   ]
  },
  {
   "cell_type": "markdown",
   "metadata": {},
   "source": [
    "---\n",
    "## SWAP Gate: 19.5 ns"
   ]
  },
  {
   "cell_type": "code",
   "execution_count": 4,
   "metadata": {},
   "outputs": [],
   "source": [
    "N = 2\n",
    "connected_qubit_pairs = [(0, 1)]\n",
    "H0 = hamiltonian.get_H0(N, d, connected_qubit_pairs)\n",
    "Hops, Hnames = hamiltonian.get_Hops_and_Hnames(N, d)\n",
    "states_concerned_list = hamiltonian.get_full_states_concerned_list(N, d)\n",
    "maxA = hamiltonian.get_maxA(N, d)\n",
    "U = np.array([[1, 0, 0, 0], [0, 0, 1, 0], [0, 1, 0, 0], [0, 0, 0, 1]])\n",
    "U = transmon_gate(U, d)"
   ]
  },
  {
   "cell_type": "code",
   "execution_count": 5,
   "metadata": {},
   "outputs": [
    {
     "name": "stdout",
     "output_type": "stream",
     "text": [
      "data saved at: /project/ftchong/qoc/pranav/00036_Feb24.h5\n",
      "Using 6 Taylor terms and 4 Scaling & Squaring terms\n",
      "Building graph:\n",
      "Propagators initialized.\n",
      "Operators weight initialized.\n",
      "Intermediate propagation variables initialized.\n",
      "Intermediate propagators initialized.\n",
      "Vectors initialized.\n",
      "Training loss initialized.\n",
      "Optimizer initialized.\n",
      "Utilities initialized.\n",
      "Graph built!\n",
      "Initialized\n",
      "Error = :8.04e-01; Runtime: 1.7s; Iterations = 0, grads =   9.620e-01, unitary_metric = 1.00009\n",
      "Error = :7.83e-02; Runtime: 14.9s; Iterations = 100, grads =   6.078e-02, unitary_metric = 1.00007\n",
      "Error = :8.70e-04; Runtime: 24.2s; Iterations = 168, grads =   4.857e-04, unitary_metric = 1.00006\n",
      "data saved at: /project/ftchong/qoc/pranav/00036_Feb24.h5\n"
     ]
    }
   ],
   "source": [
    "total_time = 19.5\n",
    "steps = int(total_time * 20)\n",
    "uks, U_f = Grape(H0, Hops, Hnames, U, total_time, steps, states_concerned_list, convergence,\n",
    "                 reg_coeffs=reg_coeffs,\n",
    "                 use_gpu=False, sparse_H=False, method='ADAM', maxA=maxA,\n",
    "                 show_plots=False, file_name=file_name, data_path=data_path)"
   ]
  },
  {
   "cell_type": "markdown",
   "metadata": {},
   "source": [
    "---\n",
    "## RZ(Θ) Gate: 0.4 ns (at most)\n",
    "Note: this is the longest any angle seems to take. For some reason, the gate time is not just linear between 0 and pi.\n",
    "\n",
    "I think this is because the drift Hamiltonian executes a very strong background Rz rotation."
   ]
  },
  {
   "cell_type": "code",
   "execution_count": 47,
   "metadata": {
    "scrolled": true
   },
   "outputs": [],
   "source": [
    "N = 1\n",
    "connected_qubit_pairs = []\n",
    "H0 = hamiltonian.get_H0(N, d, connected_qubit_pairs)\n",
    "Hops, Hnames = hamiltonian.get_Hops_and_Hnames(N, d)\n",
    "states_concerned_list = hamiltonian.get_full_states_concerned_list(N, d)\n",
    "maxA = hamiltonian.get_maxA(N, d)\n",
    "theta = 0.02*np.pi\n",
    "U = np.array([[1, 0], [0, np.exp(1j * theta)]])\n",
    "U = transmon_gate(U, d)"
   ]
  },
  {
   "cell_type": "code",
   "execution_count": 50,
   "metadata": {},
   "outputs": [
    {
     "name": "stdout",
     "output_type": "stream",
     "text": [
      "data saved at: /project/ftchong/qoc/pranav/00065_Feb24.h5\n",
      "Using 4 Taylor terms and 3 Scaling & Squaring terms\n",
      "Building graph:\n",
      "Propagators initialized.\n",
      "Operators weight initialized.\n",
      "Intermediate propagation variables initialized.\n",
      "Intermediate propagators initialized.\n",
      "Vectors initialized.\n",
      "Training loss initialized.\n",
      "Optimizer initialized.\n",
      "Utilities initialized.\n",
      "Graph built!\n",
      "Initialized\n",
      "Error = :4.23e-02; Runtime: 0.0s; Iterations = 0, grads =   4.643e-02, unitary_metric = 0.99997\n",
      "Error = :7.01e-04; Runtime: 0.1s; Iterations = 7, grads =   8.126e-03, unitary_metric = 0.99997\n",
      "data saved at: /project/ftchong/qoc/pranav/00065_Feb24.h5\n"
     ]
    }
   ],
   "source": [
    "total_time = 0.4\n",
    "steps = int(total_time * 20)\n",
    "uks, U_f = Grape(H0, Hops, Hnames, U, total_time, steps, states_concerned_list, convergence,\n",
    "                 reg_coeffs=reg_coeffs,\n",
    "                 use_gpu=False, sparse_H=False, method='ADAM', maxA=maxA,\n",
    "                 show_plots=False, file_name=file_name, data_path=data_path)"
   ]
  },
  {
   "cell_type": "markdown",
   "metadata": {},
   "source": [
    "---\n",
    "## RX(Θ) Gate: 7.0 ns (at most)\n",
    "For this one, the longest time is for theta = pi, as expected."
   ]
  },
  {
   "cell_type": "code",
   "execution_count": 30,
   "metadata": {
    "scrolled": true
   },
   "outputs": [],
   "source": [
    "N = 1\n",
    "connected_qubit_pairs = []\n",
    "H0 = hamiltonian.get_H0(N, d, connected_qubit_pairs)\n",
    "Hops, Hnames = hamiltonian.get_Hops_and_Hnames(N, d)\n",
    "states_concerned_list = hamiltonian.get_full_states_concerned_list(N, d)\n",
    "maxA = hamiltonian.get_maxA(N, d)\n",
    "theta = 1.0 * np.pi\n",
    "U = np.array([[np.cos(theta / 2.0), np.sin(theta / 2.0) * -1j], [np.sin(theta / 2.0) * -1j, np.cos(theta / 2.0)]])\n",
    "U = transmon_gate(U, d)"
   ]
  },
  {
   "cell_type": "code",
   "execution_count": 38,
   "metadata": {},
   "outputs": [
    {
     "name": "stdout",
     "output_type": "stream",
     "text": [
      "data saved at: /project/ftchong/qoc/pranav/00056_Feb24.h5\n",
      "Using 7 Taylor terms and 2 Scaling & Squaring terms\n",
      "Building graph:\n",
      "Propagators initialized.\n",
      "Operators weight initialized.\n",
      "Intermediate propagation variables initialized.\n",
      "Intermediate propagators initialized.\n",
      "Vectors initialized.\n",
      "Training loss initialized.\n",
      "Optimizer initialized.\n",
      "Utilities initialized.\n",
      "Graph built!\n",
      "Initialized\n",
      "Error = :1.00e+00; Runtime: 0.2s; Iterations = 0, grads =   4.750e-05, unitary_metric = 0.99999\n",
      "Error = :9.59e-04; Runtime: 2.1s; Iterations = 48, grads =   1.551e-03, unitary_metric = 0.99999\n",
      "data saved at: /project/ftchong/qoc/pranav/00056_Feb24.h5\n"
     ]
    }
   ],
   "source": [
    "total_time = 7.0\n",
    "steps = int(total_time * 20)\n",
    "uks, U_f = Grape(H0, Hops, Hnames, U, total_time, steps, states_concerned_list, convergence,\n",
    "                 reg_coeffs=reg_coeffs,\n",
    "                 use_gpu=False, sparse_H=False, method='ADAM', maxA=maxA,\n",
    "                 show_plots=False, file_name=file_name, data_path=data_path)"
   ]
  }
 ],
 "metadata": {
  "kernelspec": {
   "display_name": "Python 2",
   "language": "python",
   "name": "python2"
  },
  "language_info": {
   "codemirror_mode": {
    "name": "ipython",
    "version": 3
   },
   "file_extension": ".py",
   "mimetype": "text/x-python",
   "name": "python",
   "nbconvert_exporter": "python",
   "pygments_lexer": "ipython3",
   "version": "3.6.8"
  }
 },
 "nbformat": 4,
 "nbformat_minor": 2
}
