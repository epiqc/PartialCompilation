{
 "cells": [
  {
   "cell_type": "markdown",
   "metadata": {},
   "source": [
    "# Pulse Length for LiH is 306.9 ns with Strict Partial Compilation"
   ]
  },
  {
   "cell_type": "code",
   "execution_count": 1,
   "metadata": {},
   "outputs": [],
   "source": [
    "import sys\n",
    "sys.path.append('../..')\n",
    "import config\n",
    "from fqc import uccsd, util\n",
    "\n",
    "import numpy as np\n",
    "from datetime import datetime\n",
    "\n",
    "data_path = config.DATA_PATH\n",
    "file_name = datetime.today().strftime('%h%d')"
   ]
  },
  {
   "cell_type": "code",
   "execution_count": 2,
   "metadata": {},
   "outputs": [],
   "source": [
    "from quantum_optimal_control.helper_functions.grape_functions import transmon_gate\n",
    "from quantum_optimal_control.main_grape.grape import Grape\n",
    "from quantum_optimal_control.core import hamiltonian"
   ]
  },
  {
   "cell_type": "code",
   "execution_count": 3,
   "metadata": {},
   "outputs": [],
   "source": [
    "d = 2  # this is the number of energy levels to consider (i.e. d-level qudits)\n",
    "max_iterations = 6000\n",
    "decay =  max_iterations / 2\n",
    "convergence = {'rate':0.01, 'max_iterations': max_iterations,\n",
    "               'conv_target':1e-3, 'learning_rate_decay':decay, 'min_grad': 1e-12, 'update_step': 20}\n",
    "reg_coeffs = {}"
   ]
  },
  {
   "cell_type": "code",
   "execution_count": 4,
   "metadata": {},
   "outputs": [],
   "source": [
    "N = 4\n",
    "connected_qubit_pairs = util.get_nearest_neighbor_coupling_list(2, 2, directed=False)\n",
    "H0 = np.zeros((d ** N, d ** N))\n",
    "Hops, Hnames = hamiltonian.get_Hops_and_Hnames(N, d, connected_qubit_pairs)\n",
    "states_concerned_list = hamiltonian.get_full_states_concerned_list(N, d)\n",
    "maxA = hamiltonian.get_maxA(N, d, connected_qubit_pairs)"
   ]
  },
  {
   "cell_type": "code",
   "execution_count": 6,
   "metadata": {},
   "outputs": [],
   "source": [
    "circuit = uccsd.get_uccsd_circuit('LiH')"
   ]
  },
  {
   "cell_type": "code",
   "execution_count": 13,
   "metadata": {},
   "outputs": [
    {
     "name": "stdout",
     "output_type": "stream",
     "text": [
      "81\n",
      "41\n"
     ]
    }
   ],
   "source": [
    "slices = uccsd.get_uccsd_slices(circuit, granularity=1)\n",
    "print(len(slices))\n",
    "print(len([slice for slice in slices if not slice.parameterized]))"
   ]
  },
  {
   "cell_type": "markdown",
   "metadata": {},
   "source": [
    "(ran each of the 41 slices via parallel sbatch job array)"
   ]
  },
  {
   "cell_type": "code",
   "execution_count": 34,
   "metadata": {},
   "outputs": [
    {
     "name": "stdout",
     "output_type": "stream",
     "text": [
      "[5.35, 4.85, 4.85, 9.55, 3.5, 4.85, 9.55, 3.95, 31.45, 3.5, 3.95, 8.15, 7.7, 10.5, 8.6, 9.55, 7.25, 8.15, 10.5, 7.25, 9.1, 7.25, 4.4, 7.25, 10.05, 7.25, 3.5, 8.6, 7.25, 7.7, 3.95, 7.25, 3.95, 8.6, 11.0, 3.95, 7.25, 5.8, 4.4, 8.15, 7.25]\n",
      "41\n",
      "306.9\n"
     ]
    }
   ],
   "source": [
    "import os\n",
    "times = []\n",
    "for filename in os.listdir('LiH/'):\n",
    "    if filename.endswith('.out'):\n",
    "        lines = open('LiH/%s' % filename).readlines()\n",
    "        if len(lines) > 5 and lines[-1].startswith('^^^SHORTEST TIME was '):\n",
    "            result = lines[-1]\n",
    "            time = float(result[len('^^^SHORTEST TIME was '):])\n",
    "            if time > 50:\n",
    "                print(time, filename)\n",
    "            else:\n",
    "                times.append(time)\n",
    "            \n",
    "print(times)\n",
    "print(len(times))\n",
    "print(sum(times))"
   ]
  },
  {
   "cell_type": "code",
   "execution_count": 24,
   "metadata": {},
   "outputs": [
    {
     "name": "stdout",
     "output_type": "stream",
     "text": [
      "16.000000000000007\n"
     ]
    }
   ],
   "source": [
    "# each parametrized slice is a z gate, which takes\n",
    "parametrized_times = [np.round(util.circuitutil.get_max_pulse_time(\n",
    "    slice.circuit), 4) for slice in slices if slice.parameterized]\n",
    "# (each parametrized slice is just an RZ gate, hence the same time for each one)\n",
    "print(sum(parametrized_times))"
   ]
  },
  {
   "cell_type": "code",
   "execution_count": null,
   "metadata": {},
   "outputs": [],
   "source": [
    "print(sum(parametrized_times) + sum(times))"
   ]
  }
 ],
 "metadata": {
  "kernelspec": {
   "display_name": "Python 3",
   "language": "python",
   "name": "python3"
  },
  "language_info": {
   "codemirror_mode": {
    "name": "ipython",
    "version": 3
   },
   "file_extension": ".py",
   "mimetype": "text/x-python",
   "name": "python",
   "nbconvert_exporter": "python",
   "pygments_lexer": "ipython3",
   "version": "3.6.8"
  }
 },
 "nbformat": 4,
 "nbformat_minor": 2
}
