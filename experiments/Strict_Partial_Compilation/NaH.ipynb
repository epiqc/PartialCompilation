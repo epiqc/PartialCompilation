{
 "cells": [
  {
   "cell_type": "markdown",
   "metadata": {},
   "source": [
    "# Pulse Length for NaH is _ ns with Strict Partial Compilation"
   ]
  },
  {
   "cell_type": "code",
   "execution_count": 17,
   "metadata": {},
   "outputs": [
    {
     "name": "stdout",
     "output_type": "stream",
     "text": [
      "1624.7499999999966\n",
      "213\n"
     ]
    }
   ],
   "source": [
    "# 321 slices in total\n",
    "\n",
    "import os\n",
    "times = []\n",
    "for filename in os.listdir('NaH/'):\n",
    "    if filename.endswith('.out'):\n",
    "        lines = open('NaH/%s' % filename).readlines()\n",
    "        if len(lines) > 2 and lines[-2].startswith('TIME FOR SLICE IS:'):\n",
    "            time = float(lines[-1])\n",
    "            times.append(time)\n",
    "            \n",
    "print(sum(times))\n",
    "print(len(times))"
   ]
  },
  {
   "cell_type": "code",
   "execution_count": 36,
   "metadata": {},
   "outputs": [
    {
     "name": "stdout",
     "output_type": "stream",
     "text": [
      "2288.599999999998\n",
      "284\n"
     ]
    }
   ],
   "source": [
    "# 321 slices in total\n",
    "\n",
    "import os\n",
    "times = []\n",
    "for filename in os.listdir('NaH/'):\n",
    "    if filename.endswith('.out'):\n",
    "        lines = open('NaH/%s' % filename).readlines()\n",
    "        if len(lines) > 2 and lines[-2].startswith('TIME FOR SLICE IS:'):\n",
    "            time = float(lines[-1])\n",
    "            times.append(time)\n",
    "            \n",
    "print(sum(times))\n",
    "print(len(times))"
   ]
  },
  {
   "cell_type": "code",
   "execution_count": 38,
   "metadata": {},
   "outputs": [
    {
     "name": "stdout",
     "output_type": "stream",
     "text": [
      "2340.7999999999975\n",
      "288\n"
     ]
    }
   ],
   "source": [
    "# 321 slices in total\n",
    "\n",
    "import os\n",
    "times = []\n",
    "for filename in os.listdir('NaH/'):\n",
    "    if filename.endswith('.out'):\n",
    "        lines = open('NaH/%s' % filename).readlines()\n",
    "        if len(lines) > 2 and lines[-2].startswith('TIME FOR SLICE IS:'):\n",
    "            time = float(lines[-1])\n",
    "            times.append(time)\n",
    "            \n",
    "print(sum(times))\n",
    "print(len(times))"
   ]
  },
  {
   "cell_type": "code",
   "execution_count": 3,
   "metadata": {},
   "outputs": [
    {
     "name": "stdout",
     "output_type": "stream",
     "text": [
      "2664.000000000001\n",
      "317\n"
     ]
    }
   ],
   "source": [
    "# 321 slices in total\n",
    "\n",
    "import os\n",
    "times = []\n",
    "for filename in os.listdir('NaH/'):\n",
    "    if filename.endswith('.out'):\n",
    "        lines = open('NaH/%s' % filename).readlines()\n",
    "        if len(lines) > 2 and lines[-2].startswith('TIME FOR SLICE IS:'):\n",
    "            time = float(lines[-1])\n",
    "            times.append(time)\n",
    "            \n",
    "print(sum(times))\n",
    "print(len(times))"
   ]
  },
  {
   "cell_type": "code",
   "execution_count": 4,
   "metadata": {},
   "outputs": [
    {
     "name": "stdout",
     "output_type": "stream",
     "text": [
      "2696.4000000000015\n",
      "318\n"
     ]
    }
   ],
   "source": [
    "# 321 slices in total\n",
    "\n",
    "import os\n",
    "times = []\n",
    "for filename in os.listdir('NaH/'):\n",
    "    if filename.endswith('.out'):\n",
    "        lines = open('NaH/%s' % filename).readlines()\n",
    "        if len(lines) > 2 and lines[-2].startswith('TIME FOR SLICE IS:'):\n",
    "            time = float(lines[-1])\n",
    "            times.append(time)\n",
    "            \n",
    "print(sum(times))\n",
    "print(len(times))"
   ]
  },
  {
   "cell_type": "code",
   "execution_count": 5,
   "metadata": {},
   "outputs": [
    {
     "name": "stdout",
     "output_type": "stream",
     "text": [
      "2750.0500000000015\n",
      "320\n"
     ]
    }
   ],
   "source": [
    "# 321 slices in total\n",
    "\n",
    "import os\n",
    "times = []\n",
    "for filename in os.listdir('NaH/'):\n",
    "    if filename.endswith('.out'):\n",
    "        lines = open('NaH/%s' % filename).readlines()\n",
    "        if len(lines) > 2 and lines[-2].startswith('TIME FOR SLICE IS:'):\n",
    "            time = float(lines[-1])\n",
    "            times.append(time)\n",
    "            \n",
    "print(sum(times))\n",
    "print(len(times))"
   ]
  },
  {
   "cell_type": "code",
   "execution_count": null,
   "metadata": {},
   "outputs": [],
   "source": []
  }
 ],
 "metadata": {
  "kernelspec": {
   "display_name": "Python 3",
   "language": "python",
   "name": "python3"
  },
  "language_info": {
   "codemirror_mode": {
    "name": "ipython",
    "version": 3
   },
   "file_extension": ".py",
   "mimetype": "text/x-python",
   "name": "python",
   "nbconvert_exporter": "python",
   "pygments_lexer": "ipython3",
   "version": "3.6.8"
  }
 },
 "nbformat": 4,
 "nbformat_minor": 2
}
