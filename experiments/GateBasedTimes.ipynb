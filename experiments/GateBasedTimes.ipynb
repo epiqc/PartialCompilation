{
 "cells": [
  {
   "cell_type": "code",
   "execution_count": 1,
   "metadata": {},
   "outputs": [],
   "source": [
    "import sys\n",
    "sys.path.append('..')\n",
    "import config\n",
    "from fqc import uccsd, util\n",
    "\n",
    "import numpy as np\n",
    "from datetime import datetime\n",
    "\n",
    "data_path = config.DATA_PATH\n",
    "file_name = datetime.today().strftime('%h%d')"
   ]
  },
  {
   "cell_type": "code",
   "execution_count": 7,
   "metadata": {},
   "outputs": [
    {
     "name": "stdout",
     "output_type": "stream",
     "text": [
      "Times reflect unoptimized and unmapped -> after optimization (time goes down) --> after mapping (time goes up)\n",
      "benchmark: H2. Times 44.9 --> optimized = 35.3 --> mapped = 35.3\n",
      "benchmark: LiH. Times 931.2 --> optimized = 792.8 --> mapped = 871.7\n",
      "benchmark: BeH2. Times 5061.7 --> optimized = 4367.4 --> mapped = 5308.3\n",
      "benchmark: NaH. Times 5848.9 --> optimized = 4954.7 --> mapped = 5490.4\n",
      "benchmark: H2O. Times 29972.4 --> optimized = 24638.0 --> mapped = 33842.2\n"
     ]
    }
   ],
   "source": [
    "print('Times reflect unoptimized and unmapped -> after optimization (time goes down) --> after mapping (time goes up)')\n",
    "unitaries = []\n",
    "for benchmark, layout in [('H2', (1, 2)),\n",
    "                          ('LiH', (2, 2)),\n",
    "                          ('BeH2', (2, 3)),\n",
    "                          ('NaH', (2, 4)),\n",
    "                          ('H2O', (2, 5))]:\n",
    "    circuit = uccsd.get_uccsd_circuit(benchmark)\n",
    "    unoptimized_unmapped_time = np.round(util.circuitutil.get_max_pulse_time(circuit), 4)\n",
    "    circuit = util.circuitutil.optimize_circuit(circuit)\n",
    "    unmapped_time = np.round(util.circuitutil.get_max_pulse_time(circuit), 4)\n",
    "    coupling_list = util.circuitutil.get_nearest_neighbor_coupling_list(layout[0], layout[1])\n",
    "    circuit = util.circuitutil.optimize_circuit(circuit, coupling_list)\n",
    "    mapped_time = np.round(util.circuitutil.get_max_pulse_time(circuit), 4)\n",
    "    template = 'benchmark: %s. Times %s --> optimized = %s --> mapped = %s'\n",
    "    print(template % (benchmark, unoptimized_unmapped_time, unmapped_time, mapped_time))"
   ]
  }
 ],
 "metadata": {
  "kernelspec": {
   "display_name": "Python 3",
   "language": "python",
   "name": "python3"
  },
  "language_info": {
   "codemirror_mode": {
    "name": "ipython",
    "version": 3
   },
   "file_extension": ".py",
   "mimetype": "text/x-python",
   "name": "python",
   "nbconvert_exporter": "python",
   "pygments_lexer": "ipython3",
   "version": "3.6.8"
  }
 },
 "nbformat": 4,
 "nbformat_minor": 2
}
