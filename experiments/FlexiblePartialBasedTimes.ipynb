{
 "cells": [
  {
   "cell_type": "markdown",
   "metadata": {},
   "source": [
    "----\n",
    "## H2 (35.3 ns w/ gate based compilation)"
   ]
  },
  {
   "cell_type": "markdown",
   "metadata": {},
   "source": [
    "----\n",
    "## LiH (871.7 ns w/ gate based compilation)"
   ]
  },
  {
   "cell_type": "markdown",
   "metadata": {},
   "source": [
    "----\n",
    "## BeH2 (5308.3 ns w/ gate based compilation)"
   ]
  },
  {
   "cell_type": "code",
   "execution_count": 83,
   "metadata": {},
   "outputs": [
    {
     "name": "stdout",
     "output_type": "stream",
     "text": [
      "2503.750000000004\n",
      "244\n"
     ]
    }
   ],
   "source": [
    "# 244 slices in total (indices [0, 1, ..., 243])\n",
    "\n",
    "import os\n",
    "times = []\n",
    "\n",
    "for filename in os.listdir('BeH2/Flexible/'):\n",
    "    if filename.endswith('.out'):\n",
    "        lines = open('BeH2/Flexible/%s' % filename).readlines()\n",
    "        if len(lines) > 2 and lines[-2].startswith('TIME FOR SLICE IS:'):\n",
    "            time = float(lines[-1])\n",
    "            times.append(time)\n",
    "\n",
    "print(sum(times))\n",
    "print(len(times))"
   ]
  },
  {
   "cell_type": "markdown",
   "metadata": {},
   "source": [
    "----\n",
    "## NaH (5490.4 ns w/ gate based compilation)"
   ]
  },
  {
   "cell_type": "code",
   "execution_count": 16,
   "metadata": {},
   "outputs": [
    {
     "name": "stdout",
     "output_type": "stream",
     "text": [
      "2770.800000000009\n",
      "321\n"
     ]
    }
   ],
   "source": [
    "# 321 slices in total (indices [0, 1, ..., 320])\n",
    "\n",
    "import os\n",
    "times = []\n",
    "\n",
    "for filename in os.listdir('NaH/Flexible/'):\n",
    "    if filename.endswith('.out'):\n",
    "        lines = open('NaH/Flexible/%s' % filename).readlines()\n",
    "        if len(lines) > 2 and lines[-2].startswith('TIME FOR SLICE IS:'):\n",
    "            time = float(lines[-1])\n",
    "            times.append(time)\n",
    "\n",
    "print(sum(times))\n",
    "print(len(times))"
   ]
  },
  {
   "cell_type": "code",
   "execution_count": null,
   "metadata": {},
   "outputs": [],
   "source": []
  }
 ],
 "metadata": {
  "kernelspec": {
   "display_name": "Python 3",
   "language": "python",
   "name": "python3"
  },
  "language_info": {
   "codemirror_mode": {
    "name": "ipython",
    "version": 3
   },
   "file_extension": ".py",
   "mimetype": "text/x-python",
   "name": "python",
   "nbconvert_exporter": "python",
   "pygments_lexer": "ipython3",
   "version": "3.6.8"
  }
 },
 "nbformat": 4,
 "nbformat_minor": 2
}
