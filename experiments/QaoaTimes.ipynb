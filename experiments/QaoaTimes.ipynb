{
 "cells": [
  {
   "cell_type": "code",
   "execution_count": 3,
   "metadata": {},
   "outputs": [],
   "source": [
    "import sys\n",
    "sys.path.append('..')\n",
    "import config\n",
    "from fqc import uccsd, qaoa, util\n",
    "\n",
    "import numpy as np\n",
    "from datetime import datetime\n",
    "\n",
    "data_path = config.DATA_PATH\n",
    "file_name = datetime.today().strftime('%h%d')"
   ]
  },
  {
   "cell_type": "code",
   "execution_count": 6,
   "metadata": {
    "scrolled": true
   },
   "outputs": [
    {
     "name": "stdout",
     "output_type": "stream",
     "text": [
      "Times reflect unoptimized and unmapped -> after optimization (time goes down) --> after mapping (time goes up)\n",
      "benchmark: 3Reg (N=4, p=1). Times 51.9 --> optimized = 51.9 --> mapped = 81.5\n",
      "benchmark: 3Reg (N=6, p=1). Times 51.9 --> optimized = 51.9 --> mapped = 132.2\n",
      "benchmark: 3Reg (N=8, p=1). Times 51.9 --> optimized = 51.9 --> mapped = 183.6\n",
      "benchmark: 3Reg (N=8, p=5). Times 355.5 --> optimized = 355.5 --> mapped = 883.2\n",
      "benchmark: 3Reg (N=8, p=10). Times 705.0 --> optimized = 705.0 --> mapped = 1801.1\n",
      "benchmark: ErdosRenyi (N=4, p=1). Times 19.9 --> optimized = 19.9 --> mapped = 36.8\n",
      "benchmark: ErdosRenyi (N=6, p=1). Times 43.9 --> optimized = 43.9 --> mapped = 80.5\n",
      "benchmark: ErdosRenyi (N=8, p=1). Times 35.9 --> optimized = 35.9 --> mapped = 94.7\n",
      "benchmark: ErdosRenyi (N=8, p=5). Times 323.9 --> optimized = 323.9 --> mapped = 856.9\n",
      "benchmark: ErdosRenyi (N=8, p=10). Times 545.9 --> optimized = 545.9 --> mapped = 1665.3\n"
     ]
    }
   ],
   "source": [
    "print('Times reflect unoptimized and unmapped -> after optimization (time goes down) --> after mapping (time goes up)')\n",
    "unitaries = []\n",
    "for benchmark, N, layout, p in [('3Reg', 4, (2, 2), 1),\n",
    "                              ('3Reg', 6, (2, 3), 1),\n",
    "                              ('3Reg', 8, (2, 4), 1),\n",
    "                              ('3Reg', 8, (2, 4), 5),\n",
    "                              ('3Reg', 8, (2, 4), 10),\n",
    "                              ('ErdosRenyi', 4, (2, 2), 1),\n",
    "                              ('ErdosRenyi', 6, (2, 3), 1),\n",
    "                              ('ErdosRenyi', 8, (2, 4), 1),\n",
    "                              ('ErdosRenyi', 8, (2, 4), 5),\n",
    "                              ('ErdosRenyi', 8, (2, 4), 10)]:\n",
    "    circuit = qaoa.get_qaoa_circuit(N, p, benchmark)\n",
    "    unoptimized_unmapped_time = np.round(util.circuitutil.get_max_pulse_time(circuit), 4)\n",
    "    circuit = util.circuitutil.optimize_circuit(circuit)\n",
    "    unmapped_time = np.round(util.circuitutil.get_max_pulse_time(circuit), 4)\n",
    "    coupling_list = util.circuitutil.get_nearest_neighbor_coupling_list(layout[0], layout[1])\n",
    "    circuit = util.circuitutil.optimize_circuit(circuit, coupling_list)\n",
    "    mapped_time = np.round(util.circuitutil.get_max_pulse_time(circuit), 4)\n",
    "    template = 'benchmark: %s (N=%s, p=%s). Times %s --> optimized = %s --> mapped = %s'\n",
    "    print(template % (benchmark, N, p, unoptimized_unmapped_time, unmapped_time, mapped_time))"
   ]
  },
  {
   "cell_type": "code",
   "execution_count": null,
   "metadata": {},
   "outputs": [],
   "source": []
  }
 ],
 "metadata": {
  "kernelspec": {
   "display_name": "Python 3",
   "language": "python",
   "name": "python3"
  },
  "language_info": {
   "codemirror_mode": {
    "name": "ipython",
    "version": 3
   },
   "file_extension": ".py",
   "mimetype": "text/x-python",
   "name": "python",
   "nbconvert_exporter": "python",
   "pygments_lexer": "ipython3",
   "version": "3.6.8"
  }
 },
 "nbformat": 4,
 "nbformat_minor": 2
}
