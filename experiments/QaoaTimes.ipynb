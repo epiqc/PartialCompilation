{
 "cells": [
  {
   "cell_type": "code",
   "execution_count": 1,
   "metadata": {},
   "outputs": [],
   "source": [
    "import sys\n",
    "sys.path.append('..')\n",
    "import config\n",
    "from fqc import uccsd, qaoa, util\n",
    "\n",
    "import numpy as np\n",
    "from datetime import datetime\n",
    "\n",
    "data_path = config.DATA_PATH\n",
    "file_name = datetime.today().strftime('%h%d')"
   ]
  },
  {
   "cell_type": "code",
   "execution_count": 7,
   "metadata": {
    "scrolled": true
   },
   "outputs": [
    {
     "name": "stdout",
     "output_type": "stream",
     "text": [
      "Times reflect unoptimized and unmapped -> after optimization (time goes down) --> after mapping (time goes up)\n",
      "benchmark: 3Reg (N=4, p=1). Times 51.9 --> optimized = 51.9 --> mapped = 76.32\n",
      "benchmark: 3Reg (N=6, p=1). Times 55.9 --> optimized = 55.9 --> mapped = 115.39\n",
      "benchmark: 3Reg (N=8, p=1). Times 67.1 --> optimized = 67.1 --> mapped = 179.72\n",
      "benchmark: 3Reg (N=8, p=5). Times 272.7 --> optimized = 272.7 --> mapped = 774.03\n",
      "benchmark: 3Reg (N=8, p=10). Times 591.62 --> optimized = 591.62 --> mapped = 1564.89\n",
      "benchmark: ErdosRenyi (N=4, p=1). Times 26.3 --> optimized = 26.3 --> mapped = 36.89\n",
      "benchmark: ErdosRenyi (N=6, p=1). Times 48.7 --> optimized = 48.7 --> mapped = 94.75\n",
      "benchmark: ErdosRenyi (N=8, p=1). Times 68.7 --> optimized = 68.7 --> mapped = 183.94\n",
      "benchmark: ErdosRenyi (N=8, p=5). Times 339.2 --> optimized = 338.78 --> mapped = 855.73\n",
      "benchmark: ErdosRenyi (N=8, p=10). Times 629.11 --> optimized = 629.11 --> mapped = 1724.65\n"
     ]
    }
   ],
   "source": [
    "print('Times reflect unoptimized and unmapped -> after optimization (time goes down) --> after mapping (time goes up)')\n",
    "unitaries = []\n",
    "for benchmark, N, layout, p in [('3Reg', 4, (2, 2), 1),\n",
    "                              ('3Reg', 6, (2, 3), 1),\n",
    "                              ('3Reg', 8, (2, 4), 1),\n",
    "                              ('3Reg', 8, (2, 4), 5),\n",
    "                              ('3Reg', 8, (2, 4), 10),\n",
    "                              ('ErdosRenyi', 4, (2, 2), 1),\n",
    "                              ('ErdosRenyi', 6, (2, 3), 1),\n",
    "                              ('ErdosRenyi', 8, (2, 4), 1),\n",
    "                              ('ErdosRenyi', 8, (2, 4), 5),\n",
    "                              ('ErdosRenyi', 8, (2, 4), 10)]:\n",
    "    unoptimized_unmapped_time = 0.0\n",
    "    unmapped_time = 0.0\n",
    "    mapped_time = 0.0\n",
    "    samples = 10\n",
    "    for _ in range(samples):\n",
    "        circuit = qaoa.get_qaoa_circuit(N, p, benchmark)\n",
    "        unoptimized_unmapped_time += np.round(util.circuitutil.get_max_pulse_time(circuit), 4)\n",
    "        circuit = util.circuitutil.optimize_circuit(circuit)\n",
    "        unmapped_time += np.round(util.circuitutil.get_max_pulse_time(circuit), 4)\n",
    "        coupling_list = util.circuitutil.get_nearest_neighbor_coupling_list(layout[0], layout[1])\n",
    "        circuit = util.circuitutil.optimize_circuit(circuit, coupling_list)\n",
    "        mapped_time += np.round(util.circuitutil.get_max_pulse_time(circuit), 4)\n",
    "    template = 'benchmark: %s (N=%s, p=%s). Times %s --> optimized = %s --> mapped = %s'\n",
    "    print(template % (benchmark, N, p, np.round(unoptimized_unmapped_time/samples,4), np.round(unmapped_time/samples,4), np.round(mapped_time/samples,4)))"
   ]
  },
  {
   "cell_type": "code",
   "execution_count": null,
   "metadata": {},
   "outputs": [],
   "source": []
  }
 ],
 "metadata": {
  "kernelspec": {
   "display_name": "Python 3",
   "language": "python",
   "name": "python3"
  },
  "language_info": {
   "codemirror_mode": {
    "name": "ipython",
    "version": 3
   },
   "file_extension": ".py",
   "mimetype": "text/x-python",
   "name": "python",
   "nbconvert_exporter": "python",
   "pygments_lexer": "ipython3",
   "version": "3.6.8"
  }
 },
 "nbformat": 4,
 "nbformat_minor": 2
}
