{
 "cells": [
  {
   "cell_type": "markdown",
   "metadata": {},
   "source": [
    "# Pulse Length for LiH is 84.05 ns with Flexible Partial Compilation\n",
    "\n",
    "(should take max-per-slice over more runs though)"
   ]
  },
  {
   "cell_type": "code",
   "execution_count": 2,
   "metadata": {},
   "outputs": [],
   "source": [
    "import sys\n",
    "sys.path.append('../..')\n",
    "import config\n",
    "from fqc import uccsd, util\n",
    "\n",
    "import numpy as np\n",
    "from datetime import datetime\n",
    "\n",
    "data_path = config.DATA_PATH\n",
    "file_name = datetime.today().strftime('%h%d')"
   ]
  },
  {
   "cell_type": "code",
   "execution_count": 3,
   "metadata": {},
   "outputs": [],
   "source": [
    "from quantum_optimal_control.helper_functions.grape_functions import transmon_gate\n",
    "from quantum_optimal_control.main_grape.grape import Grape\n",
    "from quantum_optimal_control.core import hamiltonian"
   ]
  },
  {
   "cell_type": "code",
   "execution_count": 4,
   "metadata": {},
   "outputs": [],
   "source": [
    "d = 2  # this is the number of energy levels to consider (i.e. d-level qudits)\n",
    "max_iterations = 6000\n",
    "decay =  max_iterations / 2\n",
    "convergence = {'rate':0.01, 'max_iterations': max_iterations,\n",
    "               'conv_target':1e-3, 'learning_rate_decay':decay, 'min_grad': 1e-12, 'update_step': 20}\n",
    "reg_coeffs = {}"
   ]
  },
  {
   "cell_type": "code",
   "execution_count": 5,
   "metadata": {},
   "outputs": [],
   "source": [
    "N = 4\n",
    "connected_qubit_pairs = util.get_nearest_neighbor_coupling_list(2, 2, directed=False)\n",
    "H0 = hamiltonian.get_H0(N, d)\n",
    "Hops, Hnames = hamiltonian.get_Hops_and_Hnames(N, d, connected_qubit_pairs)\n",
    "states_concerned_list = hamiltonian.get_full_states_concerned_list(N, d)\n",
    "maxA = hamiltonian.get_maxA(N, d, connected_qubit_pairs)"
   ]
  },
  {
   "cell_type": "code",
   "execution_count": 6,
   "metadata": {},
   "outputs": [],
   "source": [
    "circuit = uccsd.get_uccsd_circuit('LiH')"
   ]
  },
  {
   "cell_type": "code",
   "execution_count": 7,
   "metadata": {},
   "outputs": [
    {
     "name": "stdout",
     "output_type": "stream",
     "text": [
      "8\n"
     ]
    }
   ],
   "source": [
    "slices = uccsd.get_uccsd_slices(circuit, granularity=2, dependence_grouping=True)\n",
    "print(len(slices))"
   ]
  },
  {
   "cell_type": "markdown",
   "metadata": {},
   "source": [
    "(ran each of the 8 slices via parallel sbatch job array)"
   ]
  },
  {
   "cell_type": "code",
   "execution_count": 17,
   "metadata": {},
   "outputs": [
    {
     "name": "stdout",
     "output_type": "stream",
     "text": [
      "[3.0, 30.2, 3.0, 13.3, 13.3, 3.0, 3.5, 14.75]\n",
      "84.05\n"
     ]
    }
   ],
   "source": [
    "import os\n",
    "times = []\n",
    "for filename in os.listdir('LiH/'):\n",
    "    if filename.endswith('.out'):\n",
    "        lines = open('LiH/%s' % filename).readlines()\n",
    "        if len(lines) > 5 and lines[-1].startswith('^^^SHORTEST TIME was '):\n",
    "            result = lines[-1]\n",
    "            time = float(result[len('^^^SHORTEST TIME was '):])\n",
    "            if time > 50:\n",
    "                print(time, filename)\n",
    "            else:\n",
    "                times.append(time)\n",
    "            \n",
    "print(times)\n",
    "print(sum(times))"
   ]
  },
  {
   "cell_type": "code",
   "execution_count": null,
   "metadata": {},
   "outputs": [],
   "source": []
  }
 ],
 "metadata": {
  "kernelspec": {
   "display_name": "Python 3",
   "language": "python",
   "name": "python3"
  },
  "language_info": {
   "codemirror_mode": {
    "name": "ipython",
    "version": 3
   },
   "file_extension": ".py",
   "mimetype": "text/x-python",
   "name": "python",
   "nbconvert_exporter": "python",
   "pygments_lexer": "ipython3",
   "version": "3.6.8"
  }
 },
 "nbformat": 4,
 "nbformat_minor": 2
}
